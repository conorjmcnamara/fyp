{
 "cells": [
  {
   "cell_type": "code",
   "execution_count": 1,
   "metadata": {},
   "outputs": [],
   "source": [
    "from parsers.dblp_parser import DblpParser\n",
    "from analysis.dataset_analyser import DatasetAnalyser\n",
    "from utils.file_utils import combine_json_files\n",
    "from preprocessing.dataset_splitter import DatasetSplitter"
   ]
  },
  {
   "cell_type": "markdown",
   "metadata": {},
   "source": [
    "## Parse Datasets"
   ]
  },
  {
   "cell_type": "code",
   "execution_count": null,
   "metadata": {},
   "outputs": [],
   "source": [
    "parser = DblpParser()\n",
    "parser.parse_and_transform(\"../data/acm-v9.txt\", \"../data/parsed-acm-v9.json\")"
   ]
  },
  {
   "cell_type": "code",
   "execution_count": null,
   "metadata": {},
   "outputs": [],
   "source": [
    "analyser = DatasetAnalyser()\n",
    "analyser.analyse(\"../data/parsed-acm-v9.json\")"
   ]
  },
  {
   "cell_type": "code",
   "execution_count": null,
   "metadata": {},
   "outputs": [],
   "source": [
    "parser = DblpParser()\n",
    "parser.parse_and_transform(\"../data/v10.json\", \"../data/parsed-v10.json\")"
   ]
  },
  {
   "cell_type": "code",
   "execution_count": null,
   "metadata": {},
   "outputs": [],
   "source": [
    "analyser = DatasetAnalyser()\n",
    "analyser.analyse(\"../data/parsed-v10.json\")"
   ]
  },
  {
   "cell_type": "markdown",
   "metadata": {},
   "source": [
    "## Combine v10 JSON Files"
   ]
  },
  {
   "cell_type": "code",
   "execution_count": null,
   "metadata": {},
   "outputs": [],
   "source": [
    "json_files = [\n",
    "    \"../data/dblp-ref-0.json\",\n",
    "    \"../data/dblp-ref-1.json\",\n",
    "    \"../data/dblp-ref-2.json\",\n",
    "    \"../data/dblp-ref-3.json\"\n",
    "]\n",
    "\n",
    "combine_json_files(json_files, \"../data/v10.json\")"
   ]
  },
  {
   "cell_type": "markdown",
   "metadata": {},
   "source": [
    "## Create Train/Test Splits"
   ]
  },
  {
   "cell_type": "code",
   "execution_count": 2,
   "metadata": {},
   "outputs": [],
   "source": [
    "splitter = DatasetSplitter()\n",
    "splitter.split_dataset(\n",
    "    \"../data/parsed-v10.json\",\n",
    "    \"../data/v10-train.json\",\n",
    "    \"../data/v10-test.json\"\n",
    ")"
   ]
  },
  {
   "cell_type": "code",
   "execution_count": null,
   "metadata": {},
   "outputs": [],
   "source": [
    "analyser = DatasetAnalyser()\n",
    "analyser.analyse(\"../data/v10-train.json\")\n",
    "analyser.analyse(\"../data/v10-test.json\")\n",
    "analyser.analyse_test_set(\"../data/v10-test.json\")"
   ]
  }
 ],
 "metadata": {
  "kernelspec": {
   "display_name": "Python 3",
   "language": "python",
   "name": "python3"
  },
  "language_info": {
   "codemirror_mode": {
    "name": "ipython",
    "version": 3
   },
   "file_extension": ".py",
   "mimetype": "text/x-python",
   "name": "python",
   "nbconvert_exporter": "python",
   "pygments_lexer": "ipython3",
   "version": "3.10.6"
  }
 },
 "nbformat": 4,
 "nbformat_minor": 2
}
