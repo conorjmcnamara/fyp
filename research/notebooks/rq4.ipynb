{
 "cells": [
  {
   "cell_type": "markdown",
   "metadata": {},
   "source": [
    "## Google Colab"
   ]
  },
  {
   "cell_type": "code",
   "execution_count": null,
   "metadata": {},
   "outputs": [],
   "source": [
    "from google.colab import drive\n",
    "\n",
    "drive.mount(\"/content/drive\")\n",
    "CURRENT_DIRECTORY = \"/content/drive/MyDrive/FYP\""
   ]
  },
  {
   "cell_type": "markdown",
   "metadata": {},
   "source": [
    "## Local"
   ]
  },
  {
   "cell_type": "code",
   "execution_count": 1,
   "metadata": {},
   "outputs": [],
   "source": [
    "CURRENT_DIRECTORY = \"..\""
   ]
  },
  {
   "cell_type": "markdown",
   "metadata": {},
   "source": [
    "## Imports"
   ]
  },
  {
   "cell_type": "code",
   "execution_count": null,
   "metadata": {},
   "outputs": [],
   "source": [
    "REQUIREMENTS_PATH = f\"{CURRENT_DIRECTORY}/requirements/base.txt\"\n",
    "\n",
    "!pip install -r {REQUIREMENTS_PATH}"
   ]
  },
  {
   "cell_type": "code",
   "execution_count": 2,
   "metadata": {},
   "outputs": [],
   "source": [
    "%load_ext autoreload\n",
    "%autoreload 2"
   ]
  },
  {
   "cell_type": "code",
   "execution_count": 3,
   "metadata": {},
   "outputs": [],
   "source": [
    "import sys; sys.path.append(CURRENT_DIRECTORY)\n",
    "import os\n",
    "from src.models.rerank import compute_and_save_pagerank_scores, compute_and_save_hits_scores\n",
    "from src.evaluation.evaluate import evaluate"
   ]
  },
  {
   "cell_type": "code",
   "execution_count": null,
   "metadata": {},
   "outputs": [],
   "source": [
    "K_VALS = [10, 15, 20]"
   ]
  },
  {
   "cell_type": "markdown",
   "metadata": {},
   "source": [
    "## PageRank"
   ]
  },
  {
   "cell_type": "code",
   "execution_count": null,
   "metadata": {},
   "outputs": [],
   "source": [
    "compute_and_save_pagerank_scores(\n",
    "    os.path.join(CURRENT_DIRECTORY, \"data/embeddings/v10_train_graph.pkl\"),\n",
    "    os.path.join(CURRENT_DIRECTORY, \"data/embeddings/v10_train_graph_pagerank.pkl\"),\n",
    ")"
   ]
  },
  {
   "cell_type": "markdown",
   "metadata": {},
   "source": [
    "### Rerank"
   ]
  },
  {
   "cell_type": "markdown",
   "metadata": {},
   "source": [
    "#### TF-IDF Vectors"
   ]
  },
  {
   "cell_type": "code",
   "execution_count": null,
   "metadata": {},
   "outputs": [],
   "source": [
    "evaluate(\n",
    "    os.path.join(CURRENT_DIRECTORY, \"data/embeddings/v10_train_tfidf.faiss\"),\n",
    "    os.path.join(CURRENT_DIRECTORY, \"data/embeddings/v10_test_tfidf.faiss\"),\n",
    "    os.path.join(CURRENT_DIRECTORY, \"data/embeddings/v10_train_tfidf_ids.pkl\"),\n",
    "    os.path.join(CURRENT_DIRECTORY, \"data/embeddings/v10_test_tfidf_ids.pkl\"),\n",
    "    os.path.join(CURRENT_DIRECTORY, \"data/parsed/v10_test.json\"),\n",
    "    K_VALS,\n",
    "    os.path.join(CURRENT_DIRECTORY, \"data/results/v10_tfidf_results_pagerank.csv\"),\n",
    "    os.path.join(CURRENT_DIRECTORY, \"data/embeddings/v10_train_graph_pagerank.pkl\")\n",
    ")"
   ]
  },
  {
   "cell_type": "markdown",
   "metadata": {},
   "source": [
    "#### SciBERT Embeddings"
   ]
  },
  {
   "cell_type": "code",
   "execution_count": null,
   "metadata": {},
   "outputs": [],
   "source": [
    "evaluate(\n",
    "    os.path.join(CURRENT_DIRECTORY, \"data/embeddings/v10_train_scibert.faiss\"),\n",
    "    os.path.join(CURRENT_DIRECTORY, \"data/embeddings/v10_test_scibert.faiss\"),\n",
    "    os.path.join(CURRENT_DIRECTORY, \"data/embeddings/v10_train_scibert_ids.pkl\"),\n",
    "    os.path.join(CURRENT_DIRECTORY, \"data/embeddings/v10_test_scibert_ids.pkl\"),\n",
    "    os.path.join(CURRENT_DIRECTORY, \"data/parsed/v10_test.json\"),\n",
    "    K_VALS,\n",
    "    os.path.join(CURRENT_DIRECTORY, \"data/results/v10_scibert_results_pagerank.csv\"),\n",
    "    os.path.join(CURRENT_DIRECTORY, \"data/embeddings/v10_train_graph_pagerank.pkl\")\n",
    ")"
   ]
  },
  {
   "cell_type": "markdown",
   "metadata": {},
   "source": [
    "#### SPECTER Embeddings"
   ]
  },
  {
   "cell_type": "code",
   "execution_count": null,
   "metadata": {},
   "outputs": [],
   "source": [
    "evaluate(\n",
    "    os.path.join(CURRENT_DIRECTORY, \"data/embeddings/v10_train_specter.faiss\"),\n",
    "    os.path.join(CURRENT_DIRECTORY, \"data/embeddings/v10_test_specter.faiss\"),\n",
    "    os.path.join(CURRENT_DIRECTORY, \"data/embeddings/v10_train_specter_ids.pkl\"),\n",
    "    os.path.join(CURRENT_DIRECTORY, \"data/embeddings/v10_test_specter_ids.pkl\"),\n",
    "    os.path.join(CURRENT_DIRECTORY, \"data/parsed/v10_test.json\"),\n",
    "    K_VALS,\n",
    "    os.path.join(CURRENT_DIRECTORY, \"data/results/v10_specter_results_pagerank.csv\"),\n",
    "    os.path.join(CURRENT_DIRECTORY, \"data/embeddings/v10_train_graph_pagerank.pkl\")\n",
    ")"
   ]
  },
  {
   "cell_type": "markdown",
   "metadata": {},
   "source": [
    "## HITS"
   ]
  },
  {
   "cell_type": "code",
   "execution_count": null,
   "metadata": {},
   "outputs": [],
   "source": [
    "compute_and_save_hits_scores(\n",
    "    os.path.join(CURRENT_DIRECTORY, \"data/embeddings/v10_train_graph.pkl\"),\n",
    "    os.path.join(CURRENT_DIRECTORY, \"data/embeddings/v10_train_graph_hits.pkl\"),\n",
    ")"
   ]
  },
  {
   "cell_type": "markdown",
   "metadata": {},
   "source": [
    "### Rerank"
   ]
  },
  {
   "cell_type": "markdown",
   "metadata": {},
   "source": [
    "#### TF-IDF Vectors"
   ]
  },
  {
   "cell_type": "code",
   "execution_count": null,
   "metadata": {},
   "outputs": [],
   "source": [
    "evaluate(\n",
    "    os.path.join(CURRENT_DIRECTORY, \"data/embeddings/v10_train_tfidf.faiss\"),\n",
    "    os.path.join(CURRENT_DIRECTORY, \"data/embeddings/v10_test_tfidf.faiss\"),\n",
    "    os.path.join(CURRENT_DIRECTORY, \"data/embeddings/v10_train_tfidf_ids.pkl\"),\n",
    "    os.path.join(CURRENT_DIRECTORY, \"data/embeddings/v10_test_tfidf_ids.pkl\"),\n",
    "    os.path.join(CURRENT_DIRECTORY, \"data/parsed/v10_test.json\"),\n",
    "    K_VALS,\n",
    "    os.path.join(CURRENT_DIRECTORY, \"data/results/v10_tfidf_results_hits.csv\"),\n",
    "    os.path.join(CURRENT_DIRECTORY, \"data/embeddings/v10_train_graph_hits.pkl\")\n",
    ")"
   ]
  },
  {
   "cell_type": "markdown",
   "metadata": {},
   "source": [
    "#### SciBERT Embeddings"
   ]
  },
  {
   "cell_type": "code",
   "execution_count": null,
   "metadata": {},
   "outputs": [],
   "source": [
    "evaluate(\n",
    "    os.path.join(CURRENT_DIRECTORY, \"data/embeddings/v10_train_scibert.faiss\"),\n",
    "    os.path.join(CURRENT_DIRECTORY, \"data/embeddings/v10_test_scibert.faiss\"),\n",
    "    os.path.join(CURRENT_DIRECTORY, \"data/embeddings/v10_train_scibert_ids.pkl\"),\n",
    "    os.path.join(CURRENT_DIRECTORY, \"data/embeddings/v10_test_scibert_ids.pkl\"),\n",
    "    os.path.join(CURRENT_DIRECTORY, \"data/parsed/v10_test.json\"),\n",
    "    K_VALS,\n",
    "    os.path.join(CURRENT_DIRECTORY, \"data/results/v10_scibert_results_hits.csv\"),\n",
    "    os.path.join(CURRENT_DIRECTORY, \"data/embeddings/v10_train_graph_hits.pkl\")\n",
    ")"
   ]
  },
  {
   "cell_type": "markdown",
   "metadata": {},
   "source": [
    "#### SPECTER Embeddings"
   ]
  },
  {
   "cell_type": "code",
   "execution_count": null,
   "metadata": {},
   "outputs": [],
   "source": [
    "evaluate(\n",
    "    os.path.join(CURRENT_DIRECTORY, \"data/embeddings/v10_train_specter.faiss\"),\n",
    "    os.path.join(CURRENT_DIRECTORY, \"data/embeddings/v10_test_specter.faiss\"),\n",
    "    os.path.join(CURRENT_DIRECTORY, \"data/embeddings/v10_train_specter_ids.pkl\"),\n",
    "    os.path.join(CURRENT_DIRECTORY, \"data/embeddings/v10_test_specter_ids.pkl\"),\n",
    "    os.path.join(CURRENT_DIRECTORY, \"data/parsed/v10_test.json\"),\n",
    "    K_VALS,\n",
    "    os.path.join(CURRENT_DIRECTORY, \"data/results/v10_specter_results_hits.csv\"),\n",
    "    os.path.join(CURRENT_DIRECTORY, \"data/embeddings/v10_train_graph_hits.pkl\")\n",
    ")"
   ]
  }
 ],
 "metadata": {
  "kernelspec": {
   "display_name": "Python 3",
   "language": "python",
   "name": "python3"
  },
  "language_info": {
   "codemirror_mode": {
    "name": "ipython",
    "version": 3
   },
   "file_extension": ".py",
   "mimetype": "text/x-python",
   "name": "python",
   "nbconvert_exporter": "python",
   "pygments_lexer": "ipython3",
   "version": "3.10.6"
  }
 },
 "nbformat": 4,
 "nbformat_minor": 2
}
