{
 "cells": [
  {
   "cell_type": "markdown",
   "metadata": {},
   "source": [
    "## Google Colab"
   ]
  },
  {
   "cell_type": "code",
   "execution_count": null,
   "metadata": {},
   "outputs": [],
   "source": [
    "from google.colab import drive\n",
    "\n",
    "drive.mount(\"/content/drive\")\n",
    "CURR_DIR = \"/content/drive/MyDrive/FYP\""
   ]
  },
  {
   "cell_type": "markdown",
   "metadata": {},
   "source": [
    "## Local"
   ]
  },
  {
   "cell_type": "code",
   "execution_count": 1,
   "metadata": {},
   "outputs": [],
   "source": [
    "CURR_DIR = \"..\""
   ]
  },
  {
   "cell_type": "markdown",
   "metadata": {},
   "source": [
    "## Imports"
   ]
  },
  {
   "cell_type": "code",
   "execution_count": null,
   "metadata": {},
   "outputs": [],
   "source": [
    "REQUIREMENTS_PATH = f\"{CURR_DIR}/requirements/requirements.txt\"\n",
    "\n",
    "!pip install -r {REQUIREMENTS_PATH}"
   ]
  },
  {
   "cell_type": "code",
   "execution_count": 2,
   "metadata": {},
   "outputs": [],
   "source": [
    "%load_ext autoreload\n",
    "%autoreload 2"
   ]
  },
  {
   "cell_type": "code",
   "execution_count": null,
   "metadata": {},
   "outputs": [],
   "source": [
    "import sys; sys.path.append(CURR_DIR)\n",
    "from src.models.rerank.rerank import compute_pagerank_scores, compute_hits_scores\n",
    "from notebooks.config.entrypoint_utils import run_compute_and_save_rerank_scores, run_evaluate\n",
    "from notebooks.config.settings import DBLP_V10_NAME, N_VALS, K_VALS, NODE2VEC_P, NODE2VEC_Q"
   ]
  },
  {
   "cell_type": "code",
   "execution_count": null,
   "metadata": {},
   "outputs": [],
   "source": [
    "DATASET = DBLP_V10_NAME"
   ]
  },
  {
   "cell_type": "markdown",
   "metadata": {},
   "source": [
    "## PageRank"
   ]
  },
  {
   "cell_type": "code",
   "execution_count": null,
   "metadata": {},
   "outputs": [],
   "source": [
    "run_compute_and_save_rerank_scores(CURR_DIR, DATASET, \"pagerank\", compute_pagerank_scores)"
   ]
  },
  {
   "cell_type": "markdown",
   "metadata": {},
   "source": [
    "## HITS"
   ]
  },
  {
   "cell_type": "code",
   "execution_count": null,
   "metadata": {},
   "outputs": [],
   "source": [
    "run_compute_and_save_rerank_scores(CURR_DIR, DATASET, \"hits\", compute_hits_scores)"
   ]
  },
  {
   "cell_type": "markdown",
   "metadata": {},
   "source": [
    "## Rerank"
   ]
  },
  {
   "cell_type": "code",
   "execution_count": null,
   "metadata": {},
   "outputs": [],
   "source": [
    "rerank_models = [\"pagerank\", \"hits\"]"
   ]
  },
  {
   "cell_type": "markdown",
   "metadata": {},
   "source": [
    "### TF-IDF"
   ]
  },
  {
   "cell_type": "code",
   "execution_count": null,
   "metadata": {},
   "outputs": [],
   "source": [
    "for rerank_model in rerank_models:\n",
    "    run_evaluate(CURR_DIR, DATASET, \"tfidf\", K_VALS, rerank_model)"
   ]
  },
  {
   "cell_type": "markdown",
   "metadata": {},
   "source": [
    "### SciBERT"
   ]
  },
  {
   "cell_type": "code",
   "execution_count": null,
   "metadata": {},
   "outputs": [],
   "source": [
    "for rerank_model in rerank_models:\n",
    "  for n in N_VALS:\n",
    "      run_evaluate(\n",
    "        CURR_DIR,\n",
    "        DATASET,\n",
    "        f\"scibert_{n}\",\n",
    "        K_VALS,\n",
    "        secondary_model=f\"node2vec_{NODE2VEC_P}_{NODE2VEC_Q}\",\n",
    "        fusion_model=\"dcca_concat\",\n",
    "        rerank_model=rerank_model\n",
    "    )"
   ]
  },
  {
   "cell_type": "markdown",
   "metadata": {},
   "source": [
    "### SPECTER"
   ]
  },
  {
   "cell_type": "code",
   "execution_count": null,
   "metadata": {},
   "outputs": [],
   "source": [
    "for rerank_model in rerank_models:\n",
    "  for n in N_VALS:\n",
    "      run_evaluate(\n",
    "        CURR_DIR,\n",
    "        DATASET,\n",
    "        f\"specter_{n}\",\n",
    "        K_VALS,\n",
    "        secondary_model=f\"node2vec_{NODE2VEC_P}_{NODE2VEC_Q}\",\n",
    "        fusion_model=\"dcca_concat\",\n",
    "        rerank_model=rerank_model\n",
    "    )"
   ]
  },
  {
   "cell_type": "markdown",
   "metadata": {},
   "source": [
    "### SPECTER2"
   ]
  },
  {
   "cell_type": "code",
   "execution_count": null,
   "metadata": {},
   "outputs": [],
   "source": [
    "for rerank_model in rerank_models:\n",
    "  for n in N_VALS:\n",
    "      run_evaluate(\n",
    "        CURR_DIR,\n",
    "        DATASET,\n",
    "        f\"scibert2_{n}\",\n",
    "        K_VALS,\n",
    "        secondary_model=f\"node2vec_{NODE2VEC_P}_{NODE2VEC_Q}\",\n",
    "        fusion_model=\"dcca_concat\",\n",
    "        rerank_model=rerank_model\n",
    "    )"
   ]
  }
 ],
 "metadata": {
  "kernelspec": {
   "display_name": "Python 3",
   "language": "python",
   "name": "python3"
  },
  "language_info": {
   "codemirror_mode": {
    "name": "ipython",
    "version": 3
   },
   "file_extension": ".py",
   "mimetype": "text/x-python",
   "name": "python",
   "nbconvert_exporter": "python",
   "pygments_lexer": "ipython3",
   "version": "3.10.6"
  }
 },
 "nbformat": 4,
 "nbformat_minor": 2
}
