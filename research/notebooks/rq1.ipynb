{
 "cells": [
  {
   "cell_type": "markdown",
   "metadata": {},
   "source": [
    "## Google Colab"
   ]
  },
  {
   "cell_type": "code",
   "execution_count": null,
   "metadata": {},
   "outputs": [],
   "source": [
    "from google.colab import drive\n",
    "\n",
    "drive.mount(\"/content/drive\")\n",
    "CURRENT_DIRECTORY = \"/content/drive/MyDrive/FYP\""
   ]
  },
  {
   "cell_type": "code",
   "execution_count": null,
   "metadata": {},
   "outputs": [],
   "source": [
    "!pip install faiss-gpu faiss-cpu \"numpy>=1.25.0,<2.0\" torch transformers"
   ]
  },
  {
   "cell_type": "markdown",
   "metadata": {},
   "source": [
    "## Local"
   ]
  },
  {
   "cell_type": "code",
   "execution_count": 5,
   "metadata": {},
   "outputs": [],
   "source": [
    "CURRENT_DIRECTORY = \"..\""
   ]
  },
  {
   "cell_type": "code",
   "execution_count": 6,
   "metadata": {},
   "outputs": [],
   "source": [
    "import sys; sys.path.append(CURRENT_DIRECTORY)\n",
    "import os\n",
    "from src.models.embeddings import generate_and_save_embeddings"
   ]
  },
  {
   "cell_type": "code",
   "execution_count": null,
   "metadata": {},
   "outputs": [],
   "source": [
    "MODEL_NAME = \"allenai/scibert_scivocab_uncased\"\n",
    "\n",
    "generate_and_save_embeddings(\n",
    "    os.path.join(CURRENT_DIRECTORY, \"data/parsed/v10-train.json\"),\n",
    "    MODEL_NAME,\n",
    "    os.path.join(CURRENT_DIRECTORY, \"data/embeddings/v10-train-scibert.faiss\")\n",
    ")\n",
    "\n",
    "generate_and_save_embeddings(\n",
    "    os.path.join(CURRENT_DIRECTORY, \"data/parsed/v10-test.json\"),\n",
    "    MODEL_NAME,\n",
    "    os.path.join(CURRENT_DIRECTORY, \"data/embeddings/v10-test-scibert.faiss\")\n",
    ")"
   ]
  }
 ],
 "metadata": {
  "kernelspec": {
   "display_name": "Python 3",
   "language": "python",
   "name": "python3"
  },
  "language_info": {
   "codemirror_mode": {
    "name": "ipython",
    "version": 3
   },
   "file_extension": ".py",
   "mimetype": "text/x-python",
   "name": "python",
   "nbconvert_exporter": "python",
   "pygments_lexer": "ipython3",
   "version": "3.10.6"
  }
 },
 "nbformat": 4,
 "nbformat_minor": 2
}
