{
 "cells": [
  {
   "cell_type": "markdown",
   "metadata": {},
   "source": [
    "## Google Colab"
   ]
  },
  {
   "cell_type": "code",
   "execution_count": null,
   "metadata": {},
   "outputs": [],
   "source": [
    "from google.colab import drive\n",
    "\n",
    "drive.mount(\"/content/drive\")\n",
    "CURRENT_DIRECTORY = \"/content/drive/MyDrive/FYP\""
   ]
  },
  {
   "cell_type": "markdown",
   "metadata": {},
   "source": [
    "## Local"
   ]
  },
  {
   "cell_type": "code",
   "execution_count": 1,
   "metadata": {},
   "outputs": [],
   "source": [
    "CURRENT_DIRECTORY = \"..\""
   ]
  },
  {
   "cell_type": "markdown",
   "metadata": {},
   "source": [
    "## Imports"
   ]
  },
  {
   "cell_type": "code",
   "execution_count": null,
   "metadata": {},
   "outputs": [],
   "source": [
    "REQUIREMENTS_PATH = f\"{CURRENT_DIRECTORY}/requirements/base.txt\"\n",
    "\n",
    "!pip install -r {REQUIREMENTS_PATH}"
   ]
  },
  {
   "cell_type": "code",
   "execution_count": null,
   "metadata": {},
   "outputs": [],
   "source": [
    "%load_ext autoreload\n",
    "%autoreload 2"
   ]
  },
  {
   "cell_type": "code",
   "execution_count": 2,
   "metadata": {},
   "outputs": [],
   "source": [
    "import sys; sys.path.append(CURRENT_DIRECTORY)\n",
    "import os\n",
    "from src.models.text_vectors import generate_and_save_vectors\n",
    "from src.evaluation.evaluate import evaluate\n",
    "from src.models.text_embeddings import generate_and_save_embeddings"
   ]
  },
  {
   "cell_type": "code",
   "execution_count": null,
   "metadata": {},
   "outputs": [],
   "source": [
    "K_VALS = [10, 15, 20]"
   ]
  },
  {
   "cell_type": "markdown",
   "metadata": {},
   "source": [
    "## TF-IDF Vectors"
   ]
  },
  {
   "cell_type": "code",
   "execution_count": null,
   "metadata": {},
   "outputs": [],
   "source": [
    "generate_and_save_vectors(\n",
    "    os.path.join(CURRENT_DIRECTORY, \"data/parsed/v10_train.json\"),\n",
    "    os.path.join(CURRENT_DIRECTORY, \"data/parsed/v10_test.json\"),\n",
    "    os.path.join(CURRENT_DIRECTORY, \"data/embeddings/v10_train_tfidf.faiss\"),\n",
    "    os.path.join(CURRENT_DIRECTORY, \"data/embeddings/v10_test_tfidf.faiss\"),\n",
    "    os.path.join(CURRENT_DIRECTORY, \"data/embeddings/v10_train_tfidf_ids.pkl\"),\n",
    "    os.path.join(CURRENT_DIRECTORY, \"data/embeddings/v10_test_tfidf_ids.pkl\")\n",
    ")"
   ]
  },
  {
   "cell_type": "code",
   "execution_count": null,
   "metadata": {},
   "outputs": [],
   "source": [
    "evaluate(\n",
    "    os.path.join(CURRENT_DIRECTORY, \"data/embeddings/v10_train_tfidf.faiss\"),\n",
    "    os.path.join(CURRENT_DIRECTORY, \"data/embeddings/v10_test_tfidf.faiss\"),\n",
    "    os.path.join(CURRENT_DIRECTORY, \"data/embeddings/v10_train_tfidf_ids.pkl\"),\n",
    "    os.path.join(CURRENT_DIRECTORY, \"data/embeddings/v10_test_tfidf_ids.pkl\"),\n",
    "    os.path.join(CURRENT_DIRECTORY, \"data/parsed/v10_test.json\"),\n",
    "    K_VALS,\n",
    "    os.path.join(CURRENT_DIRECTORY, \"data/results/v10_tfidf_results.csv\")\n",
    ")"
   ]
  },
  {
   "cell_type": "markdown",
   "metadata": {},
   "source": [
    "## SciBERT Embeddings"
   ]
  },
  {
   "cell_type": "code",
   "execution_count": null,
   "metadata": {},
   "outputs": [],
   "source": [
    "MODEL_NAME = \"allenai/scibert_scivocab_uncased\"\n",
    "\n",
    "generate_and_save_embeddings(\n",
    "    os.path.join(CURRENT_DIRECTORY, \"data/parsed/v10_train.json\"),\n",
    "    os.path.join(CURRENT_DIRECTORY, \"data/embeddings/v10_train_scibert.faiss\"),\n",
    "    os.path.join(CURRENT_DIRECTORY, \"data/embeddings/v10_train_scibert_ids.pkl\"),\n",
    "    MODEL_NAME\n",
    ")\n",
    "\n",
    "generate_and_save_embeddings(\n",
    "    os.path.join(CURRENT_DIRECTORY, \"data/parsed/v10_test.json\"),\n",
    "    os.path.join(CURRENT_DIRECTORY, \"data/embeddings/v10_test_scibert.faiss\"),\n",
    "    os.path.join(CURRENT_DIRECTORY, \"data/embeddings/v10_test_scibert_ids.pkl\"),\n",
    "    MODEL_NAME\n",
    ")"
   ]
  },
  {
   "cell_type": "code",
   "execution_count": null,
   "metadata": {},
   "outputs": [],
   "source": [
    "evaluate(\n",
    "    os.path.join(CURRENT_DIRECTORY, \"data/embeddings/v10_train_scibert.faiss\"),\n",
    "    os.path.join(CURRENT_DIRECTORY, \"data/embeddings/v10_test_scibert.faiss\"),\n",
    "    os.path.join(CURRENT_DIRECTORY, \"data/embeddings/v10_train_scibert_ids.pkl\"),\n",
    "    os.path.join(CURRENT_DIRECTORY, \"data/embeddings/v10_test_scibert_ids.pkl\"),\n",
    "    os.path.join(CURRENT_DIRECTORY, \"data/parsed/v10_test.json\"),\n",
    "    K_VALS,\n",
    "    os.path.join(CURRENT_DIRECTORY, \"data/results/v10_scibert_results.csv\")\n",
    ")"
   ]
  }
 ],
 "metadata": {
  "kernelspec": {
   "display_name": "Python 3",
   "language": "python",
   "name": "python3"
  },
  "language_info": {
   "codemirror_mode": {
    "name": "ipython",
    "version": 3
   },
   "file_extension": ".py",
   "mimetype": "text/x-python",
   "name": "python",
   "nbconvert_exporter": "python",
   "pygments_lexer": "ipython3",
   "version": "3.10.6"
  }
 },
 "nbformat": 4,
 "nbformat_minor": 2
}
