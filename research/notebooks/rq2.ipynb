{
 "cells": [
  {
   "cell_type": "markdown",
   "metadata": {},
   "source": [
    "## Google Colab"
   ]
  },
  {
   "cell_type": "code",
   "execution_count": null,
   "metadata": {},
   "outputs": [],
   "source": [
    "from google.colab import drive\n",
    "\n",
    "drive.mount(\"/content/drive\")\n",
    "CURRENT_DIRECTORY = \"/content/drive/MyDrive/FYP\""
   ]
  },
  {
   "cell_type": "markdown",
   "metadata": {},
   "source": [
    "## Local"
   ]
  },
  {
   "cell_type": "code",
   "execution_count": 5,
   "metadata": {},
   "outputs": [],
   "source": [
    "CURRENT_DIRECTORY = \"..\""
   ]
  },
  {
   "cell_type": "markdown",
   "metadata": {},
   "source": [
    "## Imports"
   ]
  },
  {
   "cell_type": "code",
   "execution_count": null,
   "metadata": {},
   "outputs": [],
   "source": [
    "REQUIREMENTS_PATH = f\"{CURRENT_DIRECTORY}/requirements/base.txt\"\n",
    "\n",
    "!pip install -r {REQUIREMENTS_PATH}"
   ]
  },
  {
   "cell_type": "code",
   "execution_count": null,
   "metadata": {},
   "outputs": [],
   "source": [
    "%load_ext autoreload\n",
    "%autoreload 2"
   ]
  },
  {
   "cell_type": "code",
   "execution_count": null,
   "metadata": {},
   "outputs": [],
   "source": [
    "import sys; sys.path.append(CURRENT_DIRECTORY)\n",
    "import os\n",
    "from src.models.text_embeddings import generate_and_save_embeddings\n",
    "from src.evaluation.evaluate import evaluate"
   ]
  },
  {
   "cell_type": "code",
   "execution_count": null,
   "metadata": {},
   "outputs": [],
   "source": [
    "K_VALS = [10, 15, 20]"
   ]
  },
  {
   "cell_type": "markdown",
   "metadata": {},
   "source": [
    "## Pre-trained SPECTER Embeddings"
   ]
  },
  {
   "cell_type": "code",
   "execution_count": null,
   "metadata": {},
   "outputs": [],
   "source": [
    "MODEL_NAME = \"allenai/specter\"\n",
    "\n",
    "generate_and_save_embeddings(\n",
    "    os.path.join(CURRENT_DIRECTORY, \"data/parsed/v10_train.json\"),\n",
    "    os.path.join(CURRENT_DIRECTORY, \"data/embeddings/v10_train_specter.faiss\"),\n",
    "    os.path.join(CURRENT_DIRECTORY, \"data/embeddings/v10_train_specter_ids.pkl\"),\n",
    "    MODEL_NAME\n",
    ")\n",
    "\n",
    "generate_and_save_embeddings(\n",
    "    os.path.join(CURRENT_DIRECTORY, \"data/parsed/v10_test.json\"),\n",
    "    os.path.join(CURRENT_DIRECTORY, \"data/embeddings/v10_test_specter.faiss\"),\n",
    "    os.path.join(CURRENT_DIRECTORY, \"data/embeddings/v10_test_specter_ids.pkl\"),\n",
    "    MODEL_NAME\n",
    ")"
   ]
  },
  {
   "cell_type": "code",
   "execution_count": null,
   "metadata": {},
   "outputs": [],
   "source": [
    "evaluate(\n",
    "    os.path.join(CURRENT_DIRECTORY, \"data/embeddings/v10_train_specter.faiss\"),\n",
    "    os.path.join(CURRENT_DIRECTORY, \"data/embeddings/v10_test_specter.faiss\"),\n",
    "    os.path.join(CURRENT_DIRECTORY, \"data/embeddings/v10_train_specter_ids.pkl\"),\n",
    "    os.path.join(CURRENT_DIRECTORY, \"data/embeddings/v10_test_specter_ids.pkl\"),\n",
    "    os.path.join(CURRENT_DIRECTORY, \"data/parsed/v10_test.json\"),\n",
    "    K_VALS,\n",
    "    os.path.join(CURRENT_DIRECTORY, \"data/results/v10_specter_results.csv\")\n",
    ")"
   ]
  }
 ],
 "metadata": {
  "kernelspec": {
   "display_name": "Python 3",
   "language": "python",
   "name": "python3"
  },
  "language_info": {
   "codemirror_mode": {
    "name": "ipython",
    "version": 3
   },
   "file_extension": ".py",
   "mimetype": "text/x-python",
   "name": "python",
   "nbconvert_exporter": "python",
   "pygments_lexer": "ipython3",
   "version": "3.10.6"
  }
 },
 "nbformat": 4,
 "nbformat_minor": 2
}
