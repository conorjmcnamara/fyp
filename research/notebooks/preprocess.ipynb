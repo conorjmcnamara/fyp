{
 "cells": [
  {
   "cell_type": "code",
   "execution_count": 1,
   "metadata": {},
   "outputs": [],
   "source": [
    "import sys; sys.path.append(\"..\")\n",
    "from src.utils.file_utils import combine_json_files\n",
    "from src.parsers.dblp_parser import DblpParser\n",
    "from src.analysis.dataset_analyser import DatasetAnalyser\n",
    "from src.preprocessing.dataset_splitter import DatasetSplitter"
   ]
  },
  {
   "cell_type": "markdown",
   "metadata": {},
   "source": [
    "## Combine Dataset JSON Files"
   ]
  },
  {
   "cell_type": "code",
   "execution_count": 3,
   "metadata": {},
   "outputs": [],
   "source": [
    "json_files = [\n",
    "    \"../data/raw/dblp-ref-0.json\",\n",
    "    \"../data/raw/dblp-ref-1.json\",\n",
    "    \"../data/raw/dblp-ref-2.json\",\n",
    "    \"../data/raw/dblp-ref-3.json\"\n",
    "]\n",
    "\n",
    "combine_json_files(json_files, \"../data/raw/v10.json\")"
   ]
  },
  {
   "cell_type": "markdown",
   "metadata": {},
   "source": [
    "## Parse Dataset"
   ]
  },
  {
   "cell_type": "code",
   "execution_count": null,
   "metadata": {},
   "outputs": [],
   "source": [
    "parser = DblpParser()\n",
    "parser.parse_and_transform(\"../data/raw/v10.json\", \"../data/parsed/v10.json\")"
   ]
  },
  {
   "cell_type": "code",
   "execution_count": null,
   "metadata": {},
   "outputs": [],
   "source": [
    "analyser = DatasetAnalyser()\n",
    "analyser.analyse(\"../data/parsed/v10.json\")"
   ]
  },
  {
   "cell_type": "markdown",
   "metadata": {},
   "source": [
    "## Create Train/Test Set Splits"
   ]
  },
  {
   "cell_type": "code",
   "execution_count": 3,
   "metadata": {},
   "outputs": [],
   "source": [
    "splitter = DatasetSplitter()\n",
    "splitter.split_dataset(\n",
    "    \"../data/parsed/v10.json\",\n",
    "    \"../data/parsed/v10-train.json\",\n",
    "    \"../data/parsed/v10-test.json\"\n",
    ")"
   ]
  },
  {
   "cell_type": "code",
   "execution_count": null,
   "metadata": {},
   "outputs": [],
   "source": [
    "analyser = DatasetAnalyser()\n",
    "analyser.analyse(\"../data/parsed/v10-train.json\")\n",
    "analyser.analyse(\"../data/parsed/v10-test.json\")\n",
    "analyser.analyse_test_set(\"../data/parsed/v10-test.json\")"
   ]
  }
 ],
 "metadata": {
  "kernelspec": {
   "display_name": "Python 3",
   "language": "python",
   "name": "python3"
  },
  "language_info": {
   "codemirror_mode": {
    "name": "ipython",
    "version": 3
   },
   "file_extension": ".py",
   "mimetype": "text/x-python",
   "name": "python",
   "nbconvert_exporter": "python",
   "pygments_lexer": "ipython3",
   "version": "3.10.6"
  }
 },
 "nbformat": 4,
 "nbformat_minor": 2
}
