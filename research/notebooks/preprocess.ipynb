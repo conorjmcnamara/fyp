{
 "cells": [
  {
   "cell_type": "markdown",
   "metadata": {},
   "source": [
    "## Google Colab"
   ]
  },
  {
   "cell_type": "code",
   "execution_count": null,
   "metadata": {},
   "outputs": [],
   "source": [
    "from google.colab import drive\n",
    "\n",
    "drive.mount(\"/content/drive\")\n",
    "CURR_DIR = \"/content/drive/MyDrive/FYP\""
   ]
  },
  {
   "cell_type": "markdown",
   "metadata": {},
   "source": [
    "## Local"
   ]
  },
  {
   "cell_type": "code",
   "execution_count": null,
   "metadata": {},
   "outputs": [],
   "source": [
    "CURR_DIR = \"..\""
   ]
  },
  {
   "cell_type": "markdown",
   "metadata": {},
   "source": [
    "## Imports"
   ]
  },
  {
   "cell_type": "code",
   "execution_count": null,
   "metadata": {},
   "outputs": [],
   "source": [
    "REQUIREMENTS_PATH = f\"{CURR_DIR}/requirements/requirements.txt\"\n",
    "\n",
    "!pip install -r {REQUIREMENTS_PATH}"
   ]
  },
  {
   "cell_type": "code",
   "execution_count": null,
   "metadata": {},
   "outputs": [],
   "source": [
    "%load_ext autoreload\n",
    "%autoreload 2"
   ]
  },
  {
   "cell_type": "code",
   "execution_count": null,
   "metadata": {},
   "outputs": [],
   "source": [
    "import sys; sys.path.append(CURR_DIR)\n",
    "import os\n",
    "from src.utils.file_utils import combine_json_files\n",
    "from src.parsers.dblp_parser import DblpParser\n",
    "from src.analysis.dataset_analysis import analyse_dataset, plot_reference_distribution\n",
    "from src.config.settings import DBLP_V10_CONFIG\n",
    "from notebooks.config.settings import DBLP_V10_NAME"
   ]
  },
  {
   "cell_type": "markdown",
   "metadata": {},
   "source": [
    "## DBLPv10"
   ]
  },
  {
   "cell_type": "code",
   "execution_count": null,
   "metadata": {},
   "outputs": [],
   "source": [
    "json_files = [\n",
    "    os.path.join(CURR_DIR, \"data/raw/dblp-ref-0.json\"),\n",
    "    os.path.join(CURR_DIR, \"data/raw/dblp-ref-1.json\"),\n",
    "    os.path.join(CURR_DIR, \"data/raw/dblp-ref-2.json\"),\n",
    "    os.path.join(CURR_DIR, \"data/raw/dblp-ref-3.json\")\n",
    "]\n",
    "\n",
    "combine_json_files(json_files, os.path.join(CURR_DIR, f\"data/raw/{DBLP_V10_NAME}.json\"))"
   ]
  },
  {
   "cell_type": "code",
   "execution_count": null,
   "metadata": {},
   "outputs": [],
   "source": [
    "dblp_parser = DblpParser()\n",
    "dblp_parser.parse_and_transform(\n",
    "    os.path.join(CURR_DIR, f\"data/raw/{DBLP_V10_NAME}.json\"),\n",
    "    os.path.join(CURR_DIR, f\"data/parsed/{DBLP_V10_NAME}.json\")\n",
    ")"
   ]
  },
  {
   "cell_type": "code",
   "execution_count": null,
   "metadata": {},
   "outputs": [],
   "source": [
    "analyse_dataset(os.path.join(CURR_DIR, f\"data/parsed/{DBLP_V10_NAME}.json\"), DBLP_V10_CONFIG)"
   ]
  },
  {
   "cell_type": "code",
   "execution_count": null,
   "metadata": {},
   "outputs": [],
   "source": [
    "dblp_parser.split_dataset(\n",
    "    os.path.join(CURR_DIR, f\"data/parsed/{DBLP_V10_NAME}.json\"),\n",
    "    os.path.join(CURR_DIR, f\"data/parsed/{DBLP_V10_NAME}_train.json\"),\n",
    "    os.path.join(CURR_DIR, f\"data/parsed/{DBLP_V10_NAME}_test.json\")\n",
    ")"
   ]
  },
  {
   "cell_type": "code",
   "execution_count": null,
   "metadata": {},
   "outputs": [],
   "source": [
    "analyse_dataset(os.path.join(CURR_DIR, f\"data/parsed/{DBLP_V10_NAME}_train.json\"), DBLP_V10_CONFIG)\n",
    "analyse_dataset(os.path.join(CURR_DIR, f\"data/parsed/{DBLP_V10_NAME}_test.json\"), DBLP_V10_CONFIG)\n",
    "plot_reference_distribution(os.path.join(CURR_DIR, f\"data/parsed/{DBLP_V10_NAME}_test.json\"))"
   ]
  }
 ],
 "metadata": {
  "kernelspec": {
   "display_name": "Python 3",
   "language": "python",
   "name": "python3"
  },
  "language_info": {
   "codemirror_mode": {
    "name": "ipython",
    "version": 3
   },
   "file_extension": ".py",
   "mimetype": "text/x-python",
   "name": "python",
   "nbconvert_exporter": "python",
   "pygments_lexer": "ipython3",
   "version": "3.10.6"
  }
 },
 "nbformat": 4,
 "nbformat_minor": 2
}
