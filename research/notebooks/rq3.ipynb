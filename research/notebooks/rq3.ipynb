{
 "cells": [
  {
   "cell_type": "markdown",
   "metadata": {},
   "source": [
    "## Google Colab"
   ]
  },
  {
   "cell_type": "code",
   "execution_count": null,
   "metadata": {},
   "outputs": [],
   "source": [
    "from google.colab import drive\n",
    "\n",
    "drive.mount(\"/content/drive\")\n",
    "CURR_DIR = \"/content/drive/MyDrive/FYP\""
   ]
  },
  {
   "cell_type": "markdown",
   "metadata": {},
   "source": [
    "## Local"
   ]
  },
  {
   "cell_type": "code",
   "execution_count": 2,
   "metadata": {},
   "outputs": [],
   "source": [
    "CURR_DIR = \"..\""
   ]
  },
  {
   "cell_type": "markdown",
   "metadata": {},
   "source": [
    "## Imports"
   ]
  },
  {
   "cell_type": "code",
   "execution_count": null,
   "metadata": {},
   "outputs": [],
   "source": [
    "REQUIREMENTS_PATH = f\"{CURR_DIR}/requirements/requirements.txt\"\n",
    "\n",
    "!pip install -r {REQUIREMENTS_PATH}"
   ]
  },
  {
   "cell_type": "code",
   "execution_count": null,
   "metadata": {},
   "outputs": [],
   "source": [
    "# For Deep CCA\n",
    "!pip install torch==1.13.1 transformers==4.28.1"
   ]
  },
  {
   "cell_type": "code",
   "execution_count": 1,
   "metadata": {},
   "outputs": [],
   "source": [
    "%load_ext autoreload\n",
    "%autoreload 2"
   ]
  },
  {
   "cell_type": "code",
   "execution_count": null,
   "metadata": {},
   "outputs": [],
   "source": [
    "import sys; sys.path.append(CURR_DIR)\n",
    "from src.models.fusion.fusion import train_cca, train_dcca, concat_embeddings, create_linear_combiner\n",
    "from notebooks.config.entrypoint_utils import (\n",
    "    run_generate_and_save_graph,\n",
    "    run_generate_and_save_train_node_embeddings,\n",
    "    run_generate_and_save_test_node_embeddings,\n",
    "    run_evaluate,\n",
    "    run_train_fusion_model,\n",
    "    run_project_embeddings,\n",
    "    run_fuse_embeddings,\n",
    "    run_fuse_embeddings_with_projection\n",
    ")\n",
    "from notebooks.config.settings import (\n",
    "    DBLP_V10_NAME,\n",
    "    DEEPWALK_P,\n",
    "    DEEPWALK_Q,\n",
    "    NODE2VEC_P,\n",
    "    NODE2VEC_Q,\n",
    "    N_VALS,\n",
    "    K_VALS,\n",
    "    ALPHA_VALS\n",
    ")"
   ]
  },
  {
   "cell_type": "code",
   "execution_count": null,
   "metadata": {},
   "outputs": [],
   "source": [
    "DATASET = DBLP_V10_NAME"
   ]
  },
  {
   "cell_type": "markdown",
   "metadata": {},
   "source": [
    "## Citation Network"
   ]
  },
  {
   "cell_type": "code",
   "execution_count": null,
   "metadata": {},
   "outputs": [],
   "source": [
    "run_generate_and_save_graph(CURR_DIR, DATASET)"
   ]
  },
  {
   "cell_type": "markdown",
   "metadata": {},
   "source": [
    "## DeepWalk and Node2vec"
   ]
  },
  {
   "cell_type": "code",
   "execution_count": null,
   "metadata": {},
   "outputs": [],
   "source": [
    "run_generate_and_save_train_node_embeddings(CURR_DIR, DATASET, DEEPWALK_P, DEEPWALK_Q)\n",
    "run_generate_and_save_train_node_embeddings(CURR_DIR, DATASET, NODE2VEC_P, NODE2VEC_Q)"
   ]
  },
  {
   "cell_type": "markdown",
   "metadata": {},
   "source": [
    "### Generate Test DeepWalk and Node2vec Embeddings"
   ]
  },
  {
   "cell_type": "markdown",
   "metadata": {},
   "source": [
    "#### TF-IDF"
   ]
  },
  {
   "cell_type": "code",
   "execution_count": null,
   "metadata": {},
   "outputs": [],
   "source": [
    "run_generate_and_save_test_node_embeddings(CURR_DIR, DATASET, f\"node2vec_{DEEPWALK_P}_{DEEPWALK_Q}\", \"tfidf\", N_VALS)\n",
    "run_generate_and_save_test_node_embeddings(CURR_DIR, DATASET, f\"node2vec_{NODE2VEC_P}_{NODE2VEC_Q}\", \"tfidf\", N_VALS)"
   ]
  },
  {
   "cell_type": "code",
   "execution_count": null,
   "metadata": {},
   "outputs": [],
   "source": [
    "for n in N_VALS:\n",
    "    run_evaluate(CURR_DIR, DATASET, f\"node2vec_{DEEPWALK_P}_{DEEPWALK_Q}\", K_VALS, secondary_model=f\"tfidf_{n}\")\n",
    "    run_evaluate(CURR_DIR, DATASET, f\"node2vec_{NODE2VEC_P}_{NODE2VEC_Q}\", K_VALS, secondary_model=f\"tfidf_{n}\")"
   ]
  },
  {
   "cell_type": "markdown",
   "metadata": {},
   "source": [
    "#### SciBERT"
   ]
  },
  {
   "cell_type": "code",
   "execution_count": null,
   "metadata": {},
   "outputs": [],
   "source": [
    "run_generate_and_save_test_node_embeddings(CURR_DIR, DATASET, f\"node2vec_{DEEPWALK_P}_{DEEPWALK_Q}\", \"scibert\", N_VALS)\n",
    "run_generate_and_save_test_node_embeddings(CURR_DIR, DATASET, f\"node2vec_{NODE2VEC_P}_{NODE2VEC_Q}\", \"scibert\", N_VALS)"
   ]
  },
  {
   "cell_type": "code",
   "execution_count": null,
   "metadata": {},
   "outputs": [],
   "source": [
    "for n in N_VALS:\n",
    "    run_evaluate(CURR_DIR, DATASET, f\"node2vec_{DEEPWALK_P}_{DEEPWALK_Q}\", K_VALS, secondary_model=f\"scibert_{n}\")\n",
    "    run_evaluate(CURR_DIR, DATASET, f\"node2vec_{NODE2VEC_P}_{NODE2VEC_Q}\", K_VALS, secondary_model=f\"scibert_{n}\")"
   ]
  },
  {
   "cell_type": "markdown",
   "metadata": {},
   "source": [
    "#### Doc2vec"
   ]
  },
  {
   "cell_type": "code",
   "execution_count": null,
   "metadata": {},
   "outputs": [],
   "source": [
    "run_generate_and_save_test_node_embeddings(CURR_DIR, DATASET, f\"node2vec_{DEEPWALK_P}_{DEEPWALK_Q}\", \"doc2vec\", N_VALS)\n",
    "run_generate_and_save_test_node_embeddings(CURR_DIR, DATASET, f\"node2vec_{NODE2VEC_P}_{NODE2VEC_Q}\", \"doc2vec\", N_VALS)"
   ]
  },
  {
   "cell_type": "code",
   "execution_count": null,
   "metadata": {},
   "outputs": [],
   "source": [
    "for n in N_VALS:\n",
    "    run_evaluate(CURR_DIR, DATASET, f\"node2vec_{DEEPWALK_P}_{DEEPWALK_Q}\", K_VALS, secondary_model=f\"doc2vec_{n}\")\n",
    "    run_evaluate(CURR_DIR, DATASET, f\"node2vec_{NODE2VEC_P}_{NODE2VEC_Q}\", K_VALS, secondary_model=f\"doc2vec_{n}\")"
   ]
  },
  {
   "cell_type": "markdown",
   "metadata": {},
   "source": [
    "#### SPECTER"
   ]
  },
  {
   "cell_type": "code",
   "execution_count": null,
   "metadata": {},
   "outputs": [],
   "source": [
    "run_generate_and_save_test_node_embeddings(CURR_DIR, DATASET, f\"node2vec_{DEEPWALK_P}_{DEEPWALK_Q}\", \"specter\", N_VALS)\n",
    "run_generate_and_save_test_node_embeddings(CURR_DIR, DATASET, f\"node2vec_{NODE2VEC_P}_{NODE2VEC_Q}\", \"specter\", N_VALS)"
   ]
  },
  {
   "cell_type": "code",
   "execution_count": null,
   "metadata": {},
   "outputs": [],
   "source": [
    "for n in N_VALS:\n",
    "    run_evaluate(CURR_DIR, DATASET, f\"node2vec_{DEEPWALK_P}_{DEEPWALK_Q}\", K_VALS, secondary_model=f\"specter_{n}\")\n",
    "    run_evaluate(CURR_DIR, DATASET, f\"node2vec_{NODE2VEC_P}_{NODE2VEC_Q}\", K_VALS, secondary_model=f\"specter_{n}\")"
   ]
  },
  {
   "cell_type": "markdown",
   "metadata": {},
   "source": [
    "#### SPECTER2"
   ]
  },
  {
   "cell_type": "code",
   "execution_count": null,
   "metadata": {},
   "outputs": [],
   "source": [
    "run_generate_and_save_test_node_embeddings(CURR_DIR, DATASET, f\"node2vec_{DEEPWALK_P}_{DEEPWALK_Q}\", \"specter2\", N_VALS)\n",
    "run_generate_and_save_test_node_embeddings(CURR_DIR, DATASET, f\"node2vec_{NODE2VEC_P}_{NODE2VEC_Q}\", \"specter2\", N_VALS)"
   ]
  },
  {
   "cell_type": "code",
   "execution_count": null,
   "metadata": {},
   "outputs": [],
   "source": [
    "for n in N_VALS:\n",
    "    run_evaluate(CURR_DIR, DATASET, f\"node2vec_{DEEPWALK_P}_{DEEPWALK_Q}\", K_VALS, secondary_model=f\"specter2_{n}\")\n",
    "    run_evaluate(CURR_DIR, DATASET, f\"node2vec_{NODE2VEC_P}_{NODE2VEC_Q}\", K_VALS, secondary_model=f\"specter2_{n}\")"
   ]
  },
  {
   "cell_type": "markdown",
   "metadata": {},
   "source": [
    "## Simple Concatenation"
   ]
  },
  {
   "cell_type": "markdown",
   "metadata": {},
   "source": [
    "### With DeepWalk and Node2vec"
   ]
  },
  {
   "cell_type": "markdown",
   "metadata": {},
   "source": [
    "#### TF-IDF"
   ]
  },
  {
   "cell_type": "code",
   "execution_count": null,
   "metadata": {},
   "outputs": [],
   "source": [
    "run_fuse_embeddings(CURR_DIR, DATASET, \"concat\", concat_embeddings, \"tfidf\", f\"node2vec_{DEEPWALK_P}_{DEEPWALK_Q}\", N_VALS)\n",
    "run_fuse_embeddings(CURR_DIR, DATASET, \"concat\", concat_embeddings, \"tfidf\", f\"node2vec_{NODE2VEC_P}_{NODE2VEC_Q}\", N_VALS)"
   ]
  },
  {
   "cell_type": "code",
   "execution_count": null,
   "metadata": {},
   "outputs": [],
   "source": [
    "for n in N_VALS:\n",
    "    run_evaluate(CURR_DIR, DATASET, f\"tfidf_{n}\", K_VALS, secondary_model=f\"node2vec_{DEEPWALK_P}_{DEEPWALK_Q}\", fusion_model=\"concat\")\n",
    "    run_evaluate(CURR_DIR, DATASET, f\"tfidf_{n}\", K_VALS, secondary_model=f\"node2vec_{NODE2VEC_P}_{NODE2VEC_Q}\", fusion_model=\"concat\")"
   ]
  },
  {
   "cell_type": "markdown",
   "metadata": {},
   "source": [
    "#### SciBERT"
   ]
  },
  {
   "cell_type": "code",
   "execution_count": null,
   "metadata": {},
   "outputs": [],
   "source": [
    "run_fuse_embeddings(CURR_DIR, DATASET, \"concat\", concat_embeddings, \"scibert\", f\"node2vec_{DEEPWALK_P}_{DEEPWALK_Q}\", N_VALS)\n",
    "run_fuse_embeddings(CURR_DIR, DATASET, \"concat\", concat_embeddings, \"scibert\", f\"node2vec_{NODE2VEC_P}_{NODE2VEC_Q}\", N_VALS)"
   ]
  },
  {
   "cell_type": "code",
   "execution_count": null,
   "metadata": {},
   "outputs": [],
   "source": [
    "for n in N_VALS:\n",
    "    run_evaluate(CURR_DIR, DATASET, f\"scibert_{n}\", K_VALS, secondary_model=f\"node2vec_{DEEPWALK_P}_{DEEPWALK_Q}\", fusion_model=\"concat\")\n",
    "    run_evaluate(CURR_DIR, DATASET, f\"scibert_{n}\", K_VALS, secondary_model=f\"node2vec_{NODE2VEC_P}_{NODE2VEC_Q}\", fusion_model=\"concat\")"
   ]
  },
  {
   "cell_type": "markdown",
   "metadata": {},
   "source": [
    "#### Doc2vec"
   ]
  },
  {
   "cell_type": "code",
   "execution_count": null,
   "metadata": {},
   "outputs": [],
   "source": [
    "run_fuse_embeddings(CURR_DIR, DATASET, \"concat\", concat_embeddings, \"doc2vec\", f\"node2vec_{DEEPWALK_P}_{DEEPWALK_Q}\", N_VALS)\n",
    "run_fuse_embeddings(CURR_DIR, DATASET, \"concat\", concat_embeddings, \"doc2vec\", f\"node2vec_{NODE2VEC_P}_{NODE2VEC_Q}\", N_VALS)"
   ]
  },
  {
   "cell_type": "code",
   "execution_count": null,
   "metadata": {},
   "outputs": [],
   "source": [
    "for n in N_VALS:\n",
    "    run_evaluate(CURR_DIR, DATASET, f\"doc2vec_{n}\", K_VALS, secondary_model=f\"node2vec_{DEEPWALK_P}_{DEEPWALK_Q}\", fusion_model=\"concat\")\n",
    "    run_evaluate(CURR_DIR, DATASET, f\"doc2vec_{n}\", K_VALS, secondary_model=f\"node2vec_{NODE2VEC_P}_{NODE2VEC_Q}\", fusion_model=\"concat\")"
   ]
  },
  {
   "cell_type": "markdown",
   "metadata": {},
   "source": [
    "#### SPECTER"
   ]
  },
  {
   "cell_type": "code",
   "execution_count": null,
   "metadata": {},
   "outputs": [],
   "source": [
    "run_fuse_embeddings(CURR_DIR, DATASET, \"concat\", concat_embeddings, \"specter\", f\"node2vec_{DEEPWALK_P}_{DEEPWALK_Q}\", N_VALS)\n",
    "run_fuse_embeddings(CURR_DIR, DATASET, \"concat\", concat_embeddings, \"specter\", f\"node2vec_{NODE2VEC_P}_{NODE2VEC_Q}\", N_VALS)"
   ]
  },
  {
   "cell_type": "code",
   "execution_count": null,
   "metadata": {},
   "outputs": [],
   "source": [
    "for n in N_VALS:\n",
    "    run_evaluate(CURR_DIR, DATASET, f\"specter_{n}\", K_VALS, secondary_model=f\"node2vec_{DEEPWALK_P}_{DEEPWALK_Q}\", fusion_model=\"concat\")\n",
    "    run_evaluate(CURR_DIR, DATASET, f\"specter_{n}\", K_VALS, secondary_model=f\"node2vec_{NODE2VEC_P}_{NODE2VEC_Q}\", fusion_model=\"concat\")"
   ]
  },
  {
   "cell_type": "markdown",
   "metadata": {},
   "source": [
    "#### SPECTER2"
   ]
  },
  {
   "cell_type": "code",
   "execution_count": null,
   "metadata": {},
   "outputs": [],
   "source": [
    "run_fuse_embeddings(CURR_DIR, DATASET, \"concat\", concat_embeddings, \"specter2\", f\"node2vec_{DEEPWALK_P}_{DEEPWALK_Q}\", N_VALS)\n",
    "run_fuse_embeddings(CURR_DIR, DATASET, \"concat\", concat_embeddings, \"specter2\", f\"node2vec_{NODE2VEC_P}_{NODE2VEC_Q}\", N_VALS)"
   ]
  },
  {
   "cell_type": "code",
   "execution_count": null,
   "metadata": {},
   "outputs": [],
   "source": [
    "for n in N_VALS:\n",
    "    run_evaluate(CURR_DIR, DATASET, f\"specter2_{n}\", K_VALS, secondary_model=f\"node2vec_{DEEPWALK_P}_{DEEPWALK_Q}\", fusion_model=\"concat\")\n",
    "    run_evaluate(CURR_DIR, DATASET, f\"specter2_{n}\", K_VALS, secondary_model=f\"node2vec_{NODE2VEC_P}_{NODE2VEC_Q}\", fusion_model=\"concat\")"
   ]
  },
  {
   "cell_type": "markdown",
   "metadata": {},
   "source": [
    "## Canonical Correlation Analysis (CCA)"
   ]
  },
  {
   "cell_type": "markdown",
   "metadata": {},
   "source": [
    "### With DeepWalk and Node2vec"
   ]
  },
  {
   "cell_type": "markdown",
   "metadata": {},
   "source": [
    "#### TF-IDF"
   ]
  },
  {
   "cell_type": "code",
   "execution_count": null,
   "metadata": {},
   "outputs": [],
   "source": [
    "run_train_fusion_model(CURR_DIR, DATASET, \"cca\", train_cca, \"tfidf\", f\"node2vec_{DEEPWALK_P}_{DEEPWALK_Q}\")\n",
    "run_train_fusion_model(CURR_DIR, DATASET, \"cca\", train_cca, \"tfidf\", f\"node2vec_{NODE2VEC_P}_{NODE2VEC_Q}\")"
   ]
  },
  {
   "cell_type": "code",
   "execution_count": null,
   "metadata": {},
   "outputs": [],
   "source": [
    "run_project_embeddings(CURR_DIR, DATASET, \"cca\", \"tfidf\", f\"node2vec_{DEEPWALK_P}_{DEEPWALK_Q}\", N_VALS)\n",
    "run_project_embeddings(CURR_DIR, DATASET, \"cca\", \"tfidf\", f\"node2vec_{NODE2VEC_P}_{NODE2VEC_Q}\", N_VALS)"
   ]
  },
  {
   "cell_type": "code",
   "execution_count": null,
   "metadata": {},
   "outputs": [],
   "source": [
    "for n in N_VALS:\n",
    "    run_evaluate(CURR_DIR, DATASET, f\"tfidf_{n}\", K_VALS, secondary_model=f\"node2vec_{DEEPWALK_P}_{DEEPWALK_Q}\", fusion_model=\"cca_text_projected\")\n",
    "    run_evaluate(CURR_DIR, DATASET, f\"tfidf_{n}\", K_VALS, secondary_model=f\"node2vec_{DEEPWALK_P}_{DEEPWALK_Q}\", fusion_model=\"cca_node_projected\")\n",
    "\n",
    "    run_evaluate(CURR_DIR, DATASET, f\"tfidf_{n}\", K_VALS, secondary_model=f\"node2vec_{NODE2VEC_P}_{NODE2VEC_Q}\", fusion_model=\"cca_text_projected\")\n",
    "    run_evaluate(CURR_DIR, DATASET, f\"tfidf_{n}\", K_VALS, secondary_model=f\"node2vec_{NODE2VEC_P}_{NODE2VEC_Q}\", fusion_model=\"cca_node_projected\")"
   ]
  },
  {
   "cell_type": "code",
   "execution_count": null,
   "metadata": {},
   "outputs": [],
   "source": [
    "run_fuse_embeddings_with_projection(CURR_DIR, DATASET, \"cca_concat\", concat_embeddings, \"tfidf\", f\"node2vec_{DEEPWALK_P}_{DEEPWALK_Q}\", N_VALS)\n",
    "run_fuse_embeddings_with_projection(CURR_DIR, DATASET, \"cca_concat\", concat_embeddings, \"tfidf\", f\"node2vec_{NODE2VEC_P}_{NODE2VEC_Q}\", N_VALS)\n",
    "\n",
    "for alpha in ALPHA_VALS:\n",
    "    run_fuse_embeddings_with_projection(\n",
    "        CURR_DIR,\n",
    "        DATASET,\n",
    "        f\"cca_fused_{alpha}\",\n",
    "        create_linear_combiner(alpha),\n",
    "        \"tfidf\",\n",
    "        f\"node2vec_{DEEPWALK_P}_{DEEPWALK_Q}\",\n",
    "        N_VALS\n",
    "    )\n",
    "\n",
    "    run_fuse_embeddings_with_projection(\n",
    "        CURR_DIR,\n",
    "        DATASET,\n",
    "        f\"cca_fused_{alpha}\",\n",
    "        create_linear_combiner(alpha),\n",
    "        \"tfidf\",\n",
    "        f\"node2vec_{NODE2VEC_P}_{NODE2VEC_Q}\",\n",
    "        N_VALS\n",
    "    )"
   ]
  },
  {
   "cell_type": "code",
   "execution_count": null,
   "metadata": {},
   "outputs": [],
   "source": [
    "for n in N_VALS:\n",
    "    run_evaluate(CURR_DIR, DATASET, f\"tfidf_{n}\", K_VALS, secondary_model=f\"node2vec_{DEEPWALK_P}_{DEEPWALK_Q}\", fusion_model=\"cca_concat\")\n",
    "    run_evaluate(CURR_DIR, DATASET, f\"tfidf_{n}\", K_VALS, secondary_model=f\"node2vec_{NODE2VEC_P}_{NODE2VEC_Q}\", fusion_model=\"cca_concat\")\n",
    "\n",
    "    for alpha in ALPHA_VALS:\n",
    "        run_evaluate(CURR_DIR, DATASET, f\"tfidf_{n}\", K_VALS, secondary_model=f\"node2vec_{DEEPWALK_P}_{DEEPWALK_Q}\", fusion_model=f\"cca_fused_{alpha}\")\n",
    "        run_evaluate(CURR_DIR, DATASET, f\"tfidf_{n}\", K_VALS, secondary_model=f\"node2vec_{NODE2VEC_P}_{NODE2VEC_Q}\", fusion_model=f\"cca_fused_{alpha}\")"
   ]
  },
  {
   "cell_type": "markdown",
   "metadata": {},
   "source": [
    "#### SciBERT"
   ]
  },
  {
   "cell_type": "code",
   "execution_count": null,
   "metadata": {},
   "outputs": [],
   "source": [
    "run_train_fusion_model(CURR_DIR, DATASET, \"cca\", train_cca, \"scibert\", f\"node2vec_{DEEPWALK_P}_{DEEPWALK_Q}\")\n",
    "run_train_fusion_model(CURR_DIR, DATASET, \"cca\", train_cca, \"scibert\", f\"node2vec_{NODE2VEC_P}_{NODE2VEC_Q}\")"
   ]
  },
  {
   "cell_type": "code",
   "execution_count": null,
   "metadata": {},
   "outputs": [],
   "source": [
    "run_project_embeddings(CURR_DIR, DATASET, \"cca\", \"scibert\", f\"node2vec_{DEEPWALK_P}_{DEEPWALK_Q}\", N_VALS)\n",
    "run_project_embeddings(CURR_DIR, DATASET, \"cca\", \"scibert\", f\"node2vec_{NODE2VEC_P}_{NODE2VEC_Q}\", N_VALS)"
   ]
  },
  {
   "cell_type": "code",
   "execution_count": null,
   "metadata": {},
   "outputs": [],
   "source": [
    "for n in N_VALS:\n",
    "    run_evaluate(CURR_DIR, DATASET, f\"scibert_{n}\", K_VALS, secondary_model=f\"node2vec_{DEEPWALK_P}_{DEEPWALK_Q}\", fusion_model=\"cca_text_projected\")\n",
    "    run_evaluate(CURR_DIR, DATASET, f\"scibert_{n}\", K_VALS, secondary_model=f\"node2vec_{DEEPWALK_P}_{DEEPWALK_Q}\", fusion_model=\"cca_node_projected\")\n",
    "\n",
    "    run_evaluate(CURR_DIR, DATASET, f\"scibert_{n}\", K_VALS, secondary_model=f\"node2vec_{NODE2VEC_P}_{NODE2VEC_Q}\", fusion_model=\"cca_text_projected\")\n",
    "    run_evaluate(CURR_DIR, DATASET, f\"scibert_{n}\", K_VALS, secondary_model=f\"node2vec_{NODE2VEC_P}_{NODE2VEC_Q}\", fusion_model=\"cca_node_projected\")"
   ]
  },
  {
   "cell_type": "code",
   "execution_count": null,
   "metadata": {},
   "outputs": [],
   "source": [
    "run_fuse_embeddings_with_projection(CURR_DIR, DATASET, \"cca_concat\", concat_embeddings, \"scibert\", f\"node2vec_{DEEPWALK_P}_{DEEPWALK_Q}\", N_VALS)\n",
    "run_fuse_embeddings_with_projection(CURR_DIR, DATASET, \"cca_concat\", concat_embeddings, \"scibert\", f\"node2vec_{NODE2VEC_P}_{NODE2VEC_Q}\", N_VALS)\n",
    "\n",
    "for alpha in ALPHA_VALS:\n",
    "    run_fuse_embeddings_with_projection(\n",
    "        CURR_DIR,\n",
    "        DATASET,\n",
    "        f\"cca_fused_{alpha}\",\n",
    "        create_linear_combiner(alpha),\n",
    "        \"scibert\",\n",
    "        f\"node2vec_{DEEPWALK_P}_{DEEPWALK_Q}\",\n",
    "        N_VALS\n",
    "    )\n",
    "\n",
    "    run_fuse_embeddings_with_projection(\n",
    "        CURR_DIR,\n",
    "        DATASET,\n",
    "        f\"cca_fused_{alpha}\",\n",
    "        create_linear_combiner(alpha),\n",
    "        \"scibert\",\n",
    "        f\"node2vec_{NODE2VEC_P}_{NODE2VEC_Q}\",\n",
    "        N_VALS\n",
    "    )"
   ]
  },
  {
   "cell_type": "code",
   "execution_count": null,
   "metadata": {},
   "outputs": [],
   "source": [
    "for n in N_VALS:\n",
    "    run_evaluate(CURR_DIR, DATASET, f\"scibert_{n}\", K_VALS, secondary_model=f\"node2vec_{DEEPWALK_P}_{DEEPWALK_Q}\", fusion_model=\"cca_concat\")\n",
    "    run_evaluate(CURR_DIR, DATASET, f\"scibert_{n}\", K_VALS, secondary_model=f\"node2vec_{NODE2VEC_P}_{NODE2VEC_Q}\", fusion_model=\"cca_concat\")\n",
    "\n",
    "    for alpha in ALPHA_VALS:\n",
    "        run_evaluate(CURR_DIR, DATASET, f\"scibert_{n}\", K_VALS, secondary_model=f\"node2vec_{DEEPWALK_P}_{DEEPWALK_Q}\", fusion_model=f\"cca_fused_{alpha}\")\n",
    "        run_evaluate(CURR_DIR, DATASET, f\"scibert_{n}\", K_VALS, secondary_model=f\"node2vec_{NODE2VEC_P}_{NODE2VEC_Q}\", fusion_model=f\"cca_fused_{alpha}\")"
   ]
  },
  {
   "cell_type": "markdown",
   "metadata": {},
   "source": [
    "#### Doc2vec"
   ]
  },
  {
   "cell_type": "code",
   "execution_count": null,
   "metadata": {},
   "outputs": [],
   "source": [
    "run_train_fusion_model(CURR_DIR, DATASET, \"cca\", train_cca, \"doc2vec\", f\"node2vec_{DEEPWALK_P}_{DEEPWALK_Q}\")\n",
    "run_train_fusion_model(CURR_DIR, DATASET, \"cca\", train_cca, \"doc2vec\", f\"node2vec_{NODE2VEC_P}_{NODE2VEC_Q}\")"
   ]
  },
  {
   "cell_type": "code",
   "execution_count": null,
   "metadata": {},
   "outputs": [],
   "source": [
    "run_project_embeddings(CURR_DIR, DATASET, \"cca\", \"doc2vec\", f\"node2vec_{DEEPWALK_P}_{DEEPWALK_Q}\", N_VALS)\n",
    "run_project_embeddings(CURR_DIR, DATASET, \"cca\", \"doc2vec\", f\"node2vec_{NODE2VEC_P}_{NODE2VEC_Q}\", N_VALS)"
   ]
  },
  {
   "cell_type": "code",
   "execution_count": null,
   "metadata": {},
   "outputs": [],
   "source": [
    "for n in N_VALS:\n",
    "    run_evaluate(CURR_DIR, DATASET, f\"doc2vec_{n}\", K_VALS, secondary_model=f\"node2vec_{DEEPWALK_P}_{DEEPWALK_Q}\", fusion_model=\"cca_text_projected\")\n",
    "    run_evaluate(CURR_DIR, DATASET, f\"doc2vec_{n}\", K_VALS, secondary_model=f\"node2vec_{DEEPWALK_P}_{DEEPWALK_Q}\", fusion_model=\"cca_node_projected\")\n",
    "\n",
    "    run_evaluate(CURR_DIR, DATASET, f\"doc2vec_{n}\", K_VALS, secondary_model=f\"node2vec_{NODE2VEC_P}_{NODE2VEC_Q}\", fusion_model=\"cca_text_projected\")\n",
    "    run_evaluate(CURR_DIR, DATASET, f\"doc2vec_{n}\", K_VALS, secondary_model=f\"node2vec_{NODE2VEC_P}_{NODE2VEC_Q}\", fusion_model=\"cca_node_projected\")"
   ]
  },
  {
   "cell_type": "code",
   "execution_count": null,
   "metadata": {},
   "outputs": [],
   "source": [
    "run_fuse_embeddings_with_projection(CURR_DIR, DATASET, \"cca_concat\", concat_embeddings, \"doc2vec\", f\"node2vec_{DEEPWALK_P}_{DEEPWALK_Q}\", N_VALS)\n",
    "run_fuse_embeddings_with_projection(CURR_DIR, DATASET, \"cca_concat\", concat_embeddings, \"doc2vec\", f\"node2vec_{NODE2VEC_P}_{NODE2VEC_Q}\", N_VALS)\n",
    "\n",
    "for alpha in ALPHA_VALS:\n",
    "    run_fuse_embeddings_with_projection(\n",
    "        CURR_DIR,\n",
    "        DATASET,\n",
    "        f\"cca_fused_{alpha}\",\n",
    "        create_linear_combiner(alpha),\n",
    "        \"doc2vec\",\n",
    "        f\"node2vec_{DEEPWALK_P}_{DEEPWALK_Q}\",\n",
    "        N_VALS\n",
    "    )\n",
    "\n",
    "    run_fuse_embeddings_with_projection(\n",
    "        CURR_DIR,\n",
    "        DATASET,\n",
    "        f\"cca_fused_{alpha}\",\n",
    "        create_linear_combiner(alpha),\n",
    "        \"doc2vec\",\n",
    "        f\"node2vec_{NODE2VEC_P}_{NODE2VEC_Q}\",\n",
    "        N_VALS\n",
    "    )"
   ]
  },
  {
   "cell_type": "code",
   "execution_count": null,
   "metadata": {},
   "outputs": [],
   "source": [
    "for n in N_VALS:\n",
    "    run_evaluate(CURR_DIR, DATASET, f\"doc2vec_{n}\", K_VALS, secondary_model=f\"node2vec_{DEEPWALK_P}_{DEEPWALK_Q}\", fusion_model=\"cca_concat\")\n",
    "    run_evaluate(CURR_DIR, DATASET, f\"doc2vec_{n}\", K_VALS, secondary_model=f\"node2vec_{NODE2VEC_P}_{NODE2VEC_Q}\", fusion_model=\"cca_concat\")\n",
    "\n",
    "    for alpha in ALPHA_VALS:\n",
    "        run_evaluate(CURR_DIR, DATASET, f\"doc2vec_{n}\", K_VALS, secondary_model=f\"node2vec_{DEEPWALK_P}_{DEEPWALK_Q}\", fusion_model=f\"cca_fused_{alpha}\")\n",
    "        run_evaluate(CURR_DIR, DATASET, f\"doc2vec_{n}\", K_VALS, secondary_model=f\"node2vec_{NODE2VEC_P}_{NODE2VEC_Q}\", fusion_model=f\"cca_fused_{alpha}\")"
   ]
  },
  {
   "cell_type": "markdown",
   "metadata": {},
   "source": [
    "#### SPECTER"
   ]
  },
  {
   "cell_type": "code",
   "execution_count": null,
   "metadata": {},
   "outputs": [],
   "source": [
    "run_train_fusion_model(CURR_DIR, DATASET, \"cca\", train_cca, \"specter\", f\"node2vec_{DEEPWALK_P}_{DEEPWALK_Q}\")\n",
    "run_train_fusion_model(CURR_DIR, DATASET, \"cca\", train_cca, \"specter\", f\"node2vec_{NODE2VEC_P}_{NODE2VEC_Q}\")"
   ]
  },
  {
   "cell_type": "code",
   "execution_count": null,
   "metadata": {},
   "outputs": [],
   "source": [
    "run_project_embeddings(CURR_DIR, DATASET, \"cca\", \"specter\", f\"node2vec_{DEEPWALK_P}_{DEEPWALK_Q}\", N_VALS)\n",
    "run_project_embeddings(CURR_DIR, DATASET, \"cca\", \"specter\", f\"node2vec_{NODE2VEC_P}_{NODE2VEC_Q}\", N_VALS)"
   ]
  },
  {
   "cell_type": "code",
   "execution_count": null,
   "metadata": {},
   "outputs": [],
   "source": [
    "for n in N_VALS:\n",
    "    run_evaluate(CURR_DIR, DATASET, f\"specter_{n}\", K_VALS, secondary_model=f\"node2vec_{DEEPWALK_P}_{DEEPWALK_Q}\", fusion_model=\"cca_text_projected\")\n",
    "    run_evaluate(CURR_DIR, DATASET, f\"specter_{n}\", K_VALS, secondary_model=f\"node2vec_{DEEPWALK_P}_{DEEPWALK_Q}\", fusion_model=\"cca_node_projected\")\n",
    "\n",
    "    run_evaluate(CURR_DIR, DATASET, f\"specter_{n}\", K_VALS, secondary_model=f\"node2vec_{NODE2VEC_P}_{NODE2VEC_Q}\", fusion_model=\"cca_text_projected\")\n",
    "    run_evaluate(CURR_DIR, DATASET, f\"specter_{n}\", K_VALS, secondary_model=f\"node2vec_{NODE2VEC_P}_{NODE2VEC_Q}\", fusion_model=\"cca_node_projected\")"
   ]
  },
  {
   "cell_type": "code",
   "execution_count": null,
   "metadata": {},
   "outputs": [],
   "source": [
    "run_fuse_embeddings_with_projection(CURR_DIR, DATASET, \"cca_concat\", concat_embeddings, \"specter\", f\"node2vec_{DEEPWALK_P}_{DEEPWALK_Q}\", N_VALS)\n",
    "run_fuse_embeddings_with_projection(CURR_DIR, DATASET, \"cca_concat\", concat_embeddings, \"specter\", f\"node2vec_{NODE2VEC_P}_{NODE2VEC_Q}\", N_VALS)\n",
    "\n",
    "for alpha in ALPHA_VALS:\n",
    "    run_fuse_embeddings_with_projection(\n",
    "        CURR_DIR,\n",
    "        DATASET,\n",
    "        f\"cca_fused_{alpha}\",\n",
    "        create_linear_combiner(alpha),\n",
    "        \"specter\",\n",
    "        f\"node2vec_{DEEPWALK_P}_{DEEPWALK_Q}\",\n",
    "        N_VALS\n",
    "    )\n",
    "\n",
    "    run_fuse_embeddings_with_projection(\n",
    "        CURR_DIR,\n",
    "        DATASET,\n",
    "        f\"cca_fused_{alpha}\",\n",
    "        create_linear_combiner(alpha),\n",
    "        \"specter\",\n",
    "        f\"node2vec_{NODE2VEC_P}_{NODE2VEC_Q}\",\n",
    "        N_VALS\n",
    "    )"
   ]
  },
  {
   "cell_type": "code",
   "execution_count": null,
   "metadata": {},
   "outputs": [],
   "source": [
    "for n in N_VALS:\n",
    "    run_evaluate(CURR_DIR, DATASET, f\"specter_{n}\", K_VALS, secondary_model=f\"node2vec_{DEEPWALK_P}_{DEEPWALK_Q}\", fusion_model=\"cca_concat\")\n",
    "    run_evaluate(CURR_DIR, DATASET, f\"specter_{n}\", K_VALS, secondary_model=f\"node2vec_{NODE2VEC_P}_{NODE2VEC_Q}\", fusion_model=\"cca_concat\")\n",
    "\n",
    "    for alpha in ALPHA_VALS:\n",
    "        run_evaluate(CURR_DIR, DATASET, f\"specter_{n}\", K_VALS, secondary_model=f\"node2vec_{DEEPWALK_P}_{DEEPWALK_Q}\", fusion_model=f\"cca_fused_{alpha}\")\n",
    "        run_evaluate(CURR_DIR, DATASET, f\"specter_{n}\", K_VALS, secondary_model=f\"node2vec_{NODE2VEC_P}_{NODE2VEC_Q}\", fusion_model=f\"cca_fused_{alpha}\")"
   ]
  },
  {
   "cell_type": "markdown",
   "metadata": {},
   "source": [
    "#### SPECTER2"
   ]
  },
  {
   "cell_type": "code",
   "execution_count": null,
   "metadata": {},
   "outputs": [],
   "source": [
    "run_train_fusion_model(CURR_DIR, DATASET, \"cca\", train_cca, \"specter2\", f\"node2vec_{DEEPWALK_P}_{DEEPWALK_Q}\")\n",
    "run_train_fusion_model(CURR_DIR, DATASET, \"cca\", train_cca, \"specter2\", f\"node2vec_{NODE2VEC_P}_{NODE2VEC_Q}\")"
   ]
  },
  {
   "cell_type": "code",
   "execution_count": null,
   "metadata": {},
   "outputs": [],
   "source": [
    "run_project_embeddings(CURR_DIR, DATASET, \"cca\", \"specter2\", f\"node2vec_{DEEPWALK_P}_{DEEPWALK_Q}\", N_VALS)\n",
    "run_project_embeddings(CURR_DIR, DATASET, \"cca\", \"specter2\", f\"node2vec_{NODE2VEC_P}_{NODE2VEC_Q}\", N_VALS)"
   ]
  },
  {
   "cell_type": "code",
   "execution_count": null,
   "metadata": {},
   "outputs": [],
   "source": [
    "for n in N_VALS:\n",
    "    run_evaluate(CURR_DIR, DATASET, f\"specter2_{n}\", K_VALS, secondary_model=f\"node2vec_{DEEPWALK_P}_{DEEPWALK_Q}\", fusion_model=\"cca_text_projected\")\n",
    "    run_evaluate(CURR_DIR, DATASET, f\"specter2_{n}\", K_VALS, secondary_model=f\"node2vec_{DEEPWALK_P}_{DEEPWALK_Q}\", fusion_model=\"cca_node_projected\")\n",
    "\n",
    "    run_evaluate(CURR_DIR, DATASET, f\"specter2_{n}\", K_VALS, secondary_model=f\"node2vec_{NODE2VEC_P}_{NODE2VEC_Q}\", fusion_model=\"cca_text_projected\")\n",
    "    run_evaluate(CURR_DIR, DATASET, f\"specter2_{n}\", K_VALS, secondary_model=f\"node2vec_{NODE2VEC_P}_{NODE2VEC_Q}\", fusion_model=\"cca_node_projected\")"
   ]
  },
  {
   "cell_type": "code",
   "execution_count": null,
   "metadata": {},
   "outputs": [],
   "source": [
    "run_fuse_embeddings_with_projection(CURR_DIR, DATASET, \"cca_concat\", concat_embeddings, \"specter2\", f\"node2vec_{DEEPWALK_P}_{DEEPWALK_Q}\", N_VALS)\n",
    "run_fuse_embeddings_with_projection(CURR_DIR, DATASET, \"cca_concat\", concat_embeddings, \"specter2\", f\"node2vec_{NODE2VEC_P}_{NODE2VEC_Q}\", N_VALS)\n",
    "\n",
    "for alpha in ALPHA_VALS:\n",
    "    run_fuse_embeddings_with_projection(\n",
    "        CURR_DIR,\n",
    "        DATASET,\n",
    "        f\"cca_fused_{alpha}\",\n",
    "        create_linear_combiner(alpha),\n",
    "        \"specter2\",\n",
    "        f\"node2vec_{DEEPWALK_P}_{DEEPWALK_Q}\",\n",
    "        N_VALS\n",
    "    )\n",
    "\n",
    "    run_fuse_embeddings_with_projection(\n",
    "        CURR_DIR,\n",
    "        DATASET,\n",
    "        f\"cca_fused_{alpha}\",\n",
    "        create_linear_combiner(alpha),\n",
    "        \"specter2\",\n",
    "        f\"node2vec_{NODE2VEC_P}_{NODE2VEC_Q}\",\n",
    "        N_VALS\n",
    "    )"
   ]
  },
  {
   "cell_type": "code",
   "execution_count": null,
   "metadata": {},
   "outputs": [],
   "source": [
    "for n in N_VALS:\n",
    "    run_evaluate(CURR_DIR, DATASET, f\"specter2_{n}\", K_VALS, secondary_model=f\"node2vec_{DEEPWALK_P}_{DEEPWALK_Q}\", fusion_model=\"cca_concat\")\n",
    "    run_evaluate(CURR_DIR, DATASET, f\"specter2_{n}\", K_VALS, secondary_model=f\"node2vec_{NODE2VEC_P}_{NODE2VEC_Q}\", fusion_model=\"cca_concat\")\n",
    "\n",
    "    for alpha in ALPHA_VALS:\n",
    "        run_evaluate(CURR_DIR, DATASET, f\"specter2_{n}\", K_VALS, secondary_model=f\"node2vec_{DEEPWALK_P}_{DEEPWALK_Q}\", fusion_model=f\"cca_fused_{alpha}\")\n",
    "        run_evaluate(CURR_DIR, DATASET, f\"specter2_{n}\", K_VALS, secondary_model=f\"node2vec_{NODE2VEC_P}_{NODE2VEC_Q}\", fusion_model=f\"cca_fused_{alpha}\")"
   ]
  },
  {
   "cell_type": "markdown",
   "metadata": {},
   "source": [
    "## Deep CCA"
   ]
  },
  {
   "cell_type": "markdown",
   "metadata": {},
   "source": [
    "### With DeepWalk and Node2vec"
   ]
  },
  {
   "cell_type": "markdown",
   "metadata": {},
   "source": [
    "#### TF-IDF"
   ]
  },
  {
   "cell_type": "code",
   "execution_count": null,
   "metadata": {},
   "outputs": [],
   "source": [
    "run_train_fusion_model(CURR_DIR, DATASET, \"dcca\", train_dcca, \"tfidf\", f\"node2vec_{DEEPWALK_P}_{DEEPWALK_Q}\")\n",
    "run_train_fusion_model(CURR_DIR, DATASET, \"dcca\", train_dcca, \"tfidf\", f\"node2vec_{NODE2VEC_P}_{NODE2VEC_Q}\")"
   ]
  },
  {
   "cell_type": "code",
   "execution_count": null,
   "metadata": {},
   "outputs": [],
   "source": [
    "run_project_embeddings(CURR_DIR, DATASET, \"dcca\", \"tfidf\", f\"node2vec_{DEEPWALK_P}_{DEEPWALK_Q}\", N_VALS)\n",
    "run_project_embeddings(CURR_DIR, DATASET, \"dcca\", \"tfidf\", f\"node2vec_{NODE2VEC_P}_{NODE2VEC_Q}\", N_VALS)"
   ]
  },
  {
   "cell_type": "code",
   "execution_count": null,
   "metadata": {},
   "outputs": [],
   "source": [
    "for n in N_VALS:\n",
    "    run_evaluate(CURR_DIR, DATASET, f\"tfidf_{n}\", K_VALS, secondary_model=f\"node2vec_{DEEPWALK_P}_{DEEPWALK_Q}\", fusion_model=\"dcca_text_projected\")\n",
    "    run_evaluate(CURR_DIR, DATASET, f\"tfidf_{n}\", K_VALS, secondary_model=f\"node2vec_{DEEPWALK_P}_{DEEPWALK_Q}\", fusion_model=\"dcca_node_projected\")\n",
    "\n",
    "    run_evaluate(CURR_DIR, DATASET, f\"tfidf_{n}\", K_VALS, secondary_model=f\"node2vec_{NODE2VEC_P}_{NODE2VEC_P}\", fusion_model=\"dcca_text_projected\")\n",
    "    run_evaluate(CURR_DIR, DATASET, f\"tfidf_{n}\", K_VALS, secondary_model=f\"node2vec_{NODE2VEC_P}_{NODE2VEC_Q}\", fusion_model=\"dcca_node_projected\")"
   ]
  },
  {
   "cell_type": "code",
   "execution_count": null,
   "metadata": {},
   "outputs": [],
   "source": [
    "run_fuse_embeddings_with_projection(CURR_DIR, DATASET, \"dcca_concat\", concat_embeddings, \"tfidf\", f\"node2vec_{DEEPWALK_P}_{DEEPWALK_Q}\", N_VALS)\n",
    "run_fuse_embeddings_with_projection(CURR_DIR, DATASET, \"dcca_concat\", concat_embeddings, \"tfidf\", f\"node2vec_{NODE2VEC_P}_{NODE2VEC_Q}\", N_VALS)\n",
    "\n",
    "for alpha in ALPHA_VALS:\n",
    "    run_fuse_embeddings_with_projection(\n",
    "        CURR_DIR,\n",
    "        DATASET,\n",
    "        f\"dcca_fused_{alpha}\",\n",
    "        create_linear_combiner(alpha),\n",
    "        \"tfidf\",\n",
    "        f\"node2vec_{DEEPWALK_P}_{DEEPWALK_Q}\",\n",
    "        N_VALS\n",
    "    )\n",
    "\n",
    "    run_fuse_embeddings_with_projection(\n",
    "        CURR_DIR,\n",
    "        DATASET,\n",
    "        f\"dcca_fused_{alpha}\",\n",
    "        create_linear_combiner(alpha),\n",
    "        \"tfidf\",\n",
    "        f\"node2vec_{NODE2VEC_P}_{NODE2VEC_Q}\",\n",
    "        N_VALS\n",
    "    )"
   ]
  },
  {
   "cell_type": "code",
   "execution_count": null,
   "metadata": {},
   "outputs": [],
   "source": [
    "for n in N_VALS:\n",
    "    run_evaluate(CURR_DIR, DATASET, f\"tfidf_{n}\", K_VALS, secondary_model=f\"node2vec_{DEEPWALK_P}_{DEEPWALK_Q}\", fusion_model=\"dcca_concat\")\n",
    "    run_evaluate(CURR_DIR, DATASET, f\"tfidf_{n}\", K_VALS, secondary_model=f\"node2vec_{NODE2VEC_P}_{NODE2VEC_Q}\", fusion_model=\"dcca_concat\")\n",
    "\n",
    "    for alpha in ALPHA_VALS:\n",
    "        run_evaluate(CURR_DIR, DATASET, f\"tfidf_{n}\", K_VALS, secondary_model=f\"node2vec_{DEEPWALK_P}_{DEEPWALK_Q}\", fusion_model=f\"dcca_fused_{alpha}\")\n",
    "        run_evaluate(CURR_DIR, DATASET, f\"tfidf_{n}\", K_VALS, secondary_model=f\"node2vec_{NODE2VEC_P}_{NODE2VEC_Q}\", fusion_model=f\"dcca_fused_{alpha}\")"
   ]
  },
  {
   "cell_type": "markdown",
   "metadata": {},
   "source": [
    "#### SciBERT"
   ]
  },
  {
   "cell_type": "code",
   "execution_count": null,
   "metadata": {},
   "outputs": [],
   "source": [
    "run_train_fusion_model(CURR_DIR, DATASET, \"dcca\", train_dcca, \"scibert\", f\"node2vec_{DEEPWALK_P}_{DEEPWALK_Q}\")\n",
    "run_train_fusion_model(CURR_DIR, DATASET, \"dcca\", train_dcca, \"scibert\", f\"node2vec_{NODE2VEC_P}_{NODE2VEC_Q}\")"
   ]
  },
  {
   "cell_type": "code",
   "execution_count": null,
   "metadata": {},
   "outputs": [],
   "source": [
    "run_project_embeddings(CURR_DIR, DATASET, \"dcca\", \"scibert\", f\"node2vec_{DEEPWALK_P}_{DEEPWALK_Q}\", N_VALS)\n",
    "run_project_embeddings(CURR_DIR, DATASET, \"dcca\", \"scibert\", f\"node2vec_{NODE2VEC_P}_{NODE2VEC_Q}\", N_VALS)"
   ]
  },
  {
   "cell_type": "code",
   "execution_count": null,
   "metadata": {},
   "outputs": [],
   "source": [
    "for n in N_VALS:\n",
    "    run_evaluate(CURR_DIR, DATASET, f\"scibert_{n}\", K_VALS, secondary_model=f\"node2vec_{DEEPWALK_P}_{DEEPWALK_Q}\", fusion_model=\"dcca_text_projected\")\n",
    "    run_evaluate(CURR_DIR, DATASET, f\"scibert_{n}\", K_VALS, secondary_model=f\"node2vec_{DEEPWALK_P}_{DEEPWALK_Q}\", fusion_model=\"dcca_node_projected\")\n",
    "\n",
    "    run_evaluate(CURR_DIR, DATASET, f\"scibert_{n}\", K_VALS, secondary_model=f\"node2vec_{NODE2VEC_P}_{NODE2VEC_P}\", fusion_model=\"dcca_text_projected\")\n",
    "    run_evaluate(CURR_DIR, DATASET, f\"scibert_{n}\", K_VALS, secondary_model=f\"node2vec_{NODE2VEC_P}_{NODE2VEC_Q}\", fusion_model=\"dcca_node_projected\")"
   ]
  },
  {
   "cell_type": "code",
   "execution_count": null,
   "metadata": {},
   "outputs": [],
   "source": [
    "run_fuse_embeddings_with_projection(CURR_DIR, DATASET, \"dcca_concat\", concat_embeddings, \"scibert\", f\"node2vec_{DEEPWALK_P}_{DEEPWALK_Q}\", N_VALS)\n",
    "run_fuse_embeddings_with_projection(CURR_DIR, DATASET, \"dcca_concat\", concat_embeddings, \"scibert\", f\"node2vec_{NODE2VEC_P}_{NODE2VEC_Q}\", N_VALS)\n",
    "\n",
    "for alpha in ALPHA_VALS:\n",
    "    run_fuse_embeddings_with_projection(\n",
    "        CURR_DIR,\n",
    "        DATASET,\n",
    "        f\"dcca_fused_{alpha}\",\n",
    "        create_linear_combiner(alpha),\n",
    "        \"scibert\",\n",
    "        f\"node2vec_{DEEPWALK_P}_{DEEPWALK_Q}\",\n",
    "        N_VALS\n",
    "    )\n",
    "\n",
    "    run_fuse_embeddings_with_projection(\n",
    "        CURR_DIR,\n",
    "        DATASET,\n",
    "        f\"dcca_fused_{alpha}\",\n",
    "        create_linear_combiner(alpha),\n",
    "        \"scibert\",\n",
    "        f\"node2vec_{NODE2VEC_P}_{NODE2VEC_Q}\",\n",
    "        N_VALS\n",
    "    )"
   ]
  },
  {
   "cell_type": "code",
   "execution_count": null,
   "metadata": {},
   "outputs": [],
   "source": [
    "for n in N_VALS:\n",
    "    run_evaluate(CURR_DIR, DATASET, f\"scibert_{n}\", K_VALS, secondary_model=f\"node2vec_{DEEPWALK_P}_{DEEPWALK_Q}\", fusion_model=\"dcca_concat\")\n",
    "    run_evaluate(CURR_DIR, DATASET, f\"scibert_{n}\", K_VALS, secondary_model=f\"node2vec_{NODE2VEC_P}_{NODE2VEC_Q}\", fusion_model=\"dcca_concat\")\n",
    "\n",
    "    for alpha in ALPHA_VALS:\n",
    "        run_evaluate(CURR_DIR, DATASET, f\"scibert_{n}\", K_VALS, secondary_model=f\"node2vec_{DEEPWALK_P}_{DEEPWALK_Q}\", fusion_model=f\"dcca_fused_{alpha}\")\n",
    "        run_evaluate(CURR_DIR, DATASET, f\"scibert_{n}\", K_VALS, secondary_model=f\"node2vec_{NODE2VEC_P}_{NODE2VEC_Q}\", fusion_model=f\"dcca_fused_{alpha}\")"
   ]
  },
  {
   "cell_type": "markdown",
   "metadata": {},
   "source": [
    "#### Doc2vec"
   ]
  },
  {
   "cell_type": "code",
   "execution_count": null,
   "metadata": {},
   "outputs": [],
   "source": [
    "run_train_fusion_model(CURR_DIR, DATASET, \"dcca\", train_dcca, \"doc2vec\", f\"node2vec_{DEEPWALK_P}_{DEEPWALK_Q}\")\n",
    "run_train_fusion_model(CURR_DIR, DATASET, \"dcca\", train_dcca, \"doc2vec\", f\"node2vec_{NODE2VEC_P}_{NODE2VEC_Q}\")"
   ]
  },
  {
   "cell_type": "code",
   "execution_count": null,
   "metadata": {},
   "outputs": [],
   "source": [
    "run_project_embeddings(CURR_DIR, DATASET, \"dcca\", \"doc2vec\", f\"node2vec_{DEEPWALK_P}_{DEEPWALK_Q}\", N_VALS)\n",
    "run_project_embeddings(CURR_DIR, DATASET, \"dcca\", \"doc2vec\", f\"node2vec_{NODE2VEC_P}_{NODE2VEC_Q}\", N_VALS)"
   ]
  },
  {
   "cell_type": "code",
   "execution_count": null,
   "metadata": {},
   "outputs": [],
   "source": [
    "for n in N_VALS:\n",
    "    run_evaluate(CURR_DIR, DATASET, f\"doc2vec_{n}\", K_VALS, secondary_model=f\"node2vec_{DEEPWALK_P}_{DEEPWALK_Q}\", fusion_model=\"dcca_text_projected\")\n",
    "    run_evaluate(CURR_DIR, DATASET, f\"doc2vec_{n}\", K_VALS, secondary_model=f\"node2vec_{DEEPWALK_P}_{DEEPWALK_Q}\", fusion_model=\"dcca_node_projected\")\n",
    "\n",
    "    run_evaluate(CURR_DIR, DATASET, f\"doc2vec_{n}\", K_VALS, secondary_model=f\"node2vec_{NODE2VEC_P}_{NODE2VEC_P}\", fusion_model=\"dcca_text_projected\")\n",
    "    run_evaluate(CURR_DIR, DATASET, f\"doc2vec_{n}\", K_VALS, secondary_model=f\"node2vec_{NODE2VEC_P}_{NODE2VEC_Q}\", fusion_model=\"dcca_node_projected\")"
   ]
  },
  {
   "cell_type": "code",
   "execution_count": null,
   "metadata": {},
   "outputs": [],
   "source": [
    "run_fuse_embeddings_with_projection(CURR_DIR, DATASET, \"dcca_concat\", concat_embeddings, \"doc2vec\", f\"node2vec_{DEEPWALK_P}_{DEEPWALK_Q}\", N_VALS)\n",
    "run_fuse_embeddings_with_projection(CURR_DIR, DATASET, \"dcca_concat\", concat_embeddings, \"doc2vec\", f\"node2vec_{NODE2VEC_P}_{NODE2VEC_Q}\", N_VALS)\n",
    "\n",
    "for alpha in ALPHA_VALS:\n",
    "    run_fuse_embeddings_with_projection(\n",
    "        CURR_DIR,\n",
    "        DATASET,\n",
    "        f\"dcca_fused_{alpha}\",\n",
    "        create_linear_combiner(alpha),\n",
    "        \"doc2vec\",\n",
    "        f\"node2vec_{DEEPWALK_P}_{DEEPWALK_Q}\",\n",
    "        N_VALS\n",
    "    )\n",
    "\n",
    "    run_fuse_embeddings_with_projection(\n",
    "        CURR_DIR,\n",
    "        DATASET,\n",
    "        f\"dcca_fused_{alpha}\",\n",
    "        create_linear_combiner(alpha),\n",
    "        \"doc2vec\",\n",
    "        f\"node2vec_{NODE2VEC_P}_{NODE2VEC_Q}\",\n",
    "        N_VALS\n",
    "    )"
   ]
  },
  {
   "cell_type": "code",
   "execution_count": null,
   "metadata": {},
   "outputs": [],
   "source": [
    "for n in N_VALS:\n",
    "    run_evaluate(CURR_DIR, DATASET, f\"doc2vec_{n}\", K_VALS, secondary_model=f\"node2vec_{DEEPWALK_P}_{DEEPWALK_Q}\", fusion_model=\"dcca_concat\")\n",
    "    run_evaluate(CURR_DIR, DATASET, f\"doc2vec_{n}\", K_VALS, secondary_model=f\"node2vec_{NODE2VEC_P}_{NODE2VEC_Q}\", fusion_model=\"dcca_concat\")\n",
    "\n",
    "    for alpha in ALPHA_VALS:\n",
    "        run_evaluate(CURR_DIR, DATASET, f\"doc2vec_{n}\", K_VALS, secondary_model=f\"node2vec_{DEEPWALK_P}_{DEEPWALK_Q}\", fusion_model=f\"dcca_fused_{alpha}\")\n",
    "        run_evaluate(CURR_DIR, DATASET, f\"doc2vec_{n}\", K_VALS, secondary_model=f\"node2vec_{NODE2VEC_P}_{NODE2VEC_Q}\", fusion_model=f\"dcca_fused_{alpha}\")"
   ]
  },
  {
   "cell_type": "markdown",
   "metadata": {},
   "source": [
    "#### SPECTER"
   ]
  },
  {
   "cell_type": "code",
   "execution_count": null,
   "metadata": {},
   "outputs": [],
   "source": [
    "run_train_fusion_model(CURR_DIR, DATASET, \"dcca\", train_dcca, \"specter\", f\"node2vec_{DEEPWALK_P}_{DEEPWALK_Q}\")\n",
    "run_train_fusion_model(CURR_DIR, DATASET, \"dcca\", train_dcca, \"specter\", f\"node2vec_{NODE2VEC_P}_{NODE2VEC_Q}\")"
   ]
  },
  {
   "cell_type": "code",
   "execution_count": null,
   "metadata": {},
   "outputs": [],
   "source": [
    "run_project_embeddings(CURR_DIR, DATASET, \"dcca\", \"specter\", f\"node2vec_{DEEPWALK_P}_{DEEPWALK_Q}\", N_VALS)\n",
    "run_project_embeddings(CURR_DIR, DATASET, \"dcca\", \"specter\", f\"node2vec_{NODE2VEC_P}_{NODE2VEC_Q}\", N_VALS)"
   ]
  },
  {
   "cell_type": "code",
   "execution_count": null,
   "metadata": {},
   "outputs": [],
   "source": [
    "for n in N_VALS:\n",
    "    run_evaluate(CURR_DIR, DATASET, f\"specter_{n}\", K_VALS, secondary_model=f\"node2vec_{DEEPWALK_P}_{DEEPWALK_Q}\", fusion_model=\"dcca_text_projected\")\n",
    "    run_evaluate(CURR_DIR, DATASET, f\"specter_{n}\", K_VALS, secondary_model=f\"node2vec_{DEEPWALK_P}_{DEEPWALK_Q}\", fusion_model=\"dcca_node_projected\")\n",
    "\n",
    "    run_evaluate(CURR_DIR, DATASET, f\"specter_{n}\", K_VALS, secondary_model=f\"node2vec_{NODE2VEC_P}_{NODE2VEC_P}\", fusion_model=\"dcca_text_projected\")\n",
    "    run_evaluate(CURR_DIR, DATASET, f\"specter_{n}\", K_VALS, secondary_model=f\"node2vec_{NODE2VEC_P}_{NODE2VEC_Q}\", fusion_model=\"dcca_node_projected\")"
   ]
  },
  {
   "cell_type": "code",
   "execution_count": null,
   "metadata": {},
   "outputs": [],
   "source": [
    "run_fuse_embeddings_with_projection(CURR_DIR, DATASET, \"dcca_concat\", concat_embeddings, \"specter\", f\"node2vec_{DEEPWALK_P}_{DEEPWALK_Q}\", N_VALS)\n",
    "run_fuse_embeddings_with_projection(CURR_DIR, DATASET, \"dcca_concat\", concat_embeddings, \"specter\", f\"node2vec_{NODE2VEC_P}_{NODE2VEC_Q}\", N_VALS)\n",
    "\n",
    "for alpha in ALPHA_VALS:\n",
    "    run_fuse_embeddings_with_projection(\n",
    "        CURR_DIR,\n",
    "        DATASET,\n",
    "        f\"dcca_fused_{alpha}\",\n",
    "        create_linear_combiner(alpha),\n",
    "        \"specter\",\n",
    "        f\"node2vec_{DEEPWALK_P}_{DEEPWALK_Q}\",\n",
    "        N_VALS\n",
    "    )\n",
    "\n",
    "    run_fuse_embeddings_with_projection(\n",
    "        CURR_DIR,\n",
    "        DATASET,\n",
    "        f\"dcca_fused_{alpha}\",\n",
    "        create_linear_combiner(alpha),\n",
    "        \"specter\",\n",
    "        f\"node2vec_{NODE2VEC_P}_{NODE2VEC_Q}\",\n",
    "        N_VALS\n",
    "    )"
   ]
  },
  {
   "cell_type": "code",
   "execution_count": null,
   "metadata": {},
   "outputs": [],
   "source": [
    "for n in N_VALS:\n",
    "    run_evaluate(CURR_DIR, DATASET, f\"specter_{n}\", K_VALS, secondary_model=f\"node2vec_{DEEPWALK_P}_{DEEPWALK_Q}\", fusion_model=\"dcca_concat\")\n",
    "    run_evaluate(CURR_DIR, DATASET, f\"specter_{n}\", K_VALS, secondary_model=f\"node2vec_{NODE2VEC_P}_{NODE2VEC_Q}\", fusion_model=\"dcca_concat\")\n",
    "\n",
    "    for alpha in ALPHA_VALS:\n",
    "        run_evaluate(CURR_DIR, DATASET, f\"specter_{n}\", K_VALS, secondary_model=f\"node2vec_{DEEPWALK_P}_{DEEPWALK_Q}\", fusion_model=f\"dcca_fused_{alpha}\")\n",
    "        run_evaluate(CURR_DIR, DATASET, f\"specter_{n}\", K_VALS, secondary_model=f\"node2vec_{NODE2VEC_P}_{NODE2VEC_Q}\", fusion_model=f\"dcca_fused_{alpha}\")"
   ]
  },
  {
   "cell_type": "markdown",
   "metadata": {},
   "source": [
    "#### SPECTER2"
   ]
  },
  {
   "cell_type": "code",
   "execution_count": null,
   "metadata": {},
   "outputs": [],
   "source": [
    "run_train_fusion_model(CURR_DIR, DATASET, \"dcca\", train_dcca, \"specter2\", f\"node2vec_{DEEPWALK_P}_{DEEPWALK_Q}\")\n",
    "run_train_fusion_model(CURR_DIR, DATASET, \"dcca\", train_dcca, \"specter2\", f\"node2vec_{NODE2VEC_P}_{NODE2VEC_Q}\")"
   ]
  },
  {
   "cell_type": "code",
   "execution_count": null,
   "metadata": {},
   "outputs": [],
   "source": [
    "run_project_embeddings(CURR_DIR, DATASET, \"dcca\", \"specter2\", f\"node2vec_{DEEPWALK_P}_{DEEPWALK_Q}\", N_VALS)\n",
    "run_project_embeddings(CURR_DIR, DATASET, \"dcca\", \"specter2\", f\"node2vec_{NODE2VEC_P}_{NODE2VEC_Q}\", N_VALS)"
   ]
  },
  {
   "cell_type": "code",
   "execution_count": null,
   "metadata": {},
   "outputs": [],
   "source": [
    "for n in N_VALS:\n",
    "    run_evaluate(CURR_DIR, DATASET, f\"specter2_{n}\", K_VALS, secondary_model=f\"node2vec_{DEEPWALK_P}_{DEEPWALK_Q}\", fusion_model=\"dcca_text_projected\")\n",
    "    run_evaluate(CURR_DIR, DATASET, f\"specter2_{n}\", K_VALS, secondary_model=f\"node2vec_{DEEPWALK_P}_{DEEPWALK_Q}\", fusion_model=\"dcca_node_projected\")\n",
    "\n",
    "    run_evaluate(CURR_DIR, DATASET, f\"specter2_{n}\", K_VALS, secondary_model=f\"node2vec_{NODE2VEC_P}_{NODE2VEC_P}\", fusion_model=\"dcca_text_projected\")\n",
    "    run_evaluate(CURR_DIR, DATASET, f\"specter2_{n}\", K_VALS, secondary_model=f\"node2vec_{NODE2VEC_P}_{NODE2VEC_Q}\", fusion_model=\"dcca_node_projected\")"
   ]
  },
  {
   "cell_type": "code",
   "execution_count": null,
   "metadata": {},
   "outputs": [],
   "source": [
    "run_fuse_embeddings_with_projection(CURR_DIR, DATASET, \"dcca_concat\", concat_embeddings, \"specter2\", f\"node2vec_{DEEPWALK_P}_{DEEPWALK_Q}\", N_VALS)\n",
    "run_fuse_embeddings_with_projection(CURR_DIR, DATASET, \"dcca_concat\", concat_embeddings, \"specter2\", f\"node2vec_{NODE2VEC_P}_{NODE2VEC_Q}\", N_VALS)\n",
    "\n",
    "for alpha in ALPHA_VALS:\n",
    "    run_fuse_embeddings_with_projection(\n",
    "        CURR_DIR,\n",
    "        DATASET,\n",
    "        f\"dcca_fused_{alpha}\",\n",
    "        create_linear_combiner(alpha),\n",
    "        \"specter2\",\n",
    "        f\"node2vec_{DEEPWALK_P}_{DEEPWALK_Q}\",\n",
    "        N_VALS\n",
    "    )\n",
    "\n",
    "    run_fuse_embeddings_with_projection(\n",
    "        CURR_DIR,\n",
    "        DATASET,\n",
    "        f\"dcca_fused_{alpha}\",\n",
    "        create_linear_combiner(alpha),\n",
    "        \"specter2\",\n",
    "        f\"node2vec_{NODE2VEC_P}_{NODE2VEC_Q}\",\n",
    "        N_VALS\n",
    "    )"
   ]
  },
  {
   "cell_type": "code",
   "execution_count": null,
   "metadata": {},
   "outputs": [],
   "source": [
    "for n in N_VALS:\n",
    "    run_evaluate(CURR_DIR, DATASET, f\"specter2_{n}\", K_VALS, secondary_model=f\"node2vec_{DEEPWALK_P}_{DEEPWALK_Q}\", fusion_model=\"dcca_concat\")\n",
    "    run_evaluate(CURR_DIR, DATASET, f\"specter2_{n}\", K_VALS, secondary_model=f\"node2vec_{NODE2VEC_P}_{NODE2VEC_Q}\", fusion_model=\"dcca_concat\")\n",
    "\n",
    "    for alpha in ALPHA_VALS:\n",
    "        run_evaluate(CURR_DIR, DATASET, f\"specter2_{n}\", K_VALS, secondary_model=f\"node2vec_{DEEPWALK_P}_{DEEPWALK_Q}\", fusion_model=f\"dcca_fused_{alpha}\")\n",
    "        run_evaluate(CURR_DIR, DATASET, f\"specter2_{n}\", K_VALS, secondary_model=f\"node2vec_{NODE2VEC_P}_{NODE2VEC_Q}\", fusion_model=f\"dcca_fused_{alpha}\")"
   ]
  }
 ],
 "metadata": {
  "kernelspec": {
   "display_name": "Python 3",
   "language": "python",
   "name": "python3"
  },
  "language_info": {
   "codemirror_mode": {
    "name": "ipython",
    "version": 3
   },
   "file_extension": ".py",
   "mimetype": "text/x-python",
   "name": "python",
   "nbconvert_exporter": "python",
   "pygments_lexer": "ipython3",
   "version": "3.10.6"
  }
 },
 "nbformat": 4,
 "nbformat_minor": 2
}
