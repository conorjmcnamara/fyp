{
 "cells": [
  {
   "cell_type": "markdown",
   "metadata": {},
   "source": [
    "## Google Colab"
   ]
  },
  {
   "cell_type": "code",
   "execution_count": null,
   "metadata": {},
   "outputs": [],
   "source": [
    "from google.colab import drive\n",
    "\n",
    "drive.mount(\"/content/drive\")\n",
    "CURR_DIR = \"/content/drive/MyDrive/FYP\""
   ]
  },
  {
   "cell_type": "markdown",
   "metadata": {},
   "source": [
    "## Local"
   ]
  },
  {
   "cell_type": "code",
   "execution_count": 2,
   "metadata": {},
   "outputs": [],
   "source": [
    "CURR_DIR = \"..\""
   ]
  },
  {
   "cell_type": "markdown",
   "metadata": {},
   "source": [
    "## Imports"
   ]
  },
  {
   "cell_type": "code",
   "execution_count": null,
   "metadata": {},
   "outputs": [],
   "source": [
    "REQUIREMENTS_PATH = f\"{CURR_DIR}/requirements/base.txt\"\n",
    "\n",
    "!pip install -r {REQUIREMENTS_PATH}"
   ]
  },
  {
   "cell_type": "code",
   "execution_count": null,
   "metadata": {},
   "outputs": [],
   "source": [
    "!pip install transformers==4.28.1"
   ]
  },
  {
   "cell_type": "code",
   "execution_count": 1,
   "metadata": {},
   "outputs": [],
   "source": [
    "%load_ext autoreload\n",
    "%autoreload 2"
   ]
  },
  {
   "cell_type": "code",
   "execution_count": 5,
   "metadata": {},
   "outputs": [],
   "source": [
    "import sys; sys.path.append(CURR_DIR)\n",
    "from src.models.graph.node_embeddings import generate_node2vec_embeddings\n",
    "from src.models.fusion.fusion import train_cca, train_dcca, concat_embeddings, create_linear_combiner\n",
    "from notebooks.entrypoint_utils import (\n",
    "    run_generate_and_save_graph,\n",
    "    run_generate_and_save_train_node_embeddings,\n",
    "    run_generate_and_save_test_node_embeddings,\n",
    "    run_evaluate,\n",
    "    run_train_fusion_model,\n",
    "    run_project_embeddings,\n",
    "    run_fuse_embeddings,\n",
    "    run_fuse_embeddings_with_projection\n",
    ")\n",
    "from notebooks.settings import N_VALS, K_VALS, ALPHA_VALS"
   ]
  },
  {
   "cell_type": "markdown",
   "metadata": {},
   "source": [
    "## Citation Network"
   ]
  },
  {
   "cell_type": "code",
   "execution_count": null,
   "metadata": {},
   "outputs": [],
   "source": [
    "run_generate_and_save_graph(CURR_DIR, \"v10\")"
   ]
  },
  {
   "cell_type": "markdown",
   "metadata": {},
   "source": [
    "## Node2vec"
   ]
  },
  {
   "cell_type": "code",
   "execution_count": null,
   "metadata": {},
   "outputs": [],
   "source": [
    "run_generate_and_save_train_node_embeddings(\n",
    "    CURR_DIR,\n",
    "    \"v10\",\n",
    "    \"node2vec\",\n",
    "    generate_node2vec_embeddings\n",
    ")"
   ]
  },
  {
   "cell_type": "markdown",
   "metadata": {},
   "source": [
    "### Generate Test Node2vec Embeddings"
   ]
  },
  {
   "cell_type": "markdown",
   "metadata": {},
   "source": [
    "#### TF-IDF"
   ]
  },
  {
   "cell_type": "code",
   "execution_count": null,
   "metadata": {},
   "outputs": [],
   "source": [
    "run_generate_and_save_test_node_embeddings(CURR_DIR, \"v10\", \"node2vec\", \"tfidf\", N_VALS)"
   ]
  },
  {
   "cell_type": "code",
   "execution_count": null,
   "metadata": {},
   "outputs": [],
   "source": [
    "for n in N_VALS:\n",
    "    run_evaluate(CURR_DIR, \"v10\", \"node2vec\", K_VALS, secondary_model=f\"tfidf_{n}\")"
   ]
  },
  {
   "cell_type": "markdown",
   "metadata": {},
   "source": [
    "#### SciBERT"
   ]
  },
  {
   "cell_type": "code",
   "execution_count": null,
   "metadata": {},
   "outputs": [],
   "source": [
    "run_generate_and_save_test_node_embeddings(CURR_DIR, \"v10\", \"node2vec\", \"scibert\", N_VALS)"
   ]
  },
  {
   "cell_type": "code",
   "execution_count": null,
   "metadata": {},
   "outputs": [],
   "source": [
    "for n in N_VALS:\n",
    "    run_evaluate(CURR_DIR, \"v10\", \"node2vec\", K_VALS, secondary_model=f\"scibert_{n}\")"
   ]
  },
  {
   "cell_type": "markdown",
   "metadata": {},
   "source": [
    "#### Doc2vec"
   ]
  },
  {
   "cell_type": "code",
   "execution_count": null,
   "metadata": {},
   "outputs": [],
   "source": [
    "run_generate_and_save_test_node_embeddings(CURR_DIR, \"v10\", \"node2vec\", \"doc2vec\", N_VALS)"
   ]
  },
  {
   "cell_type": "code",
   "execution_count": null,
   "metadata": {},
   "outputs": [],
   "source": [
    "for n in N_VALS:\n",
    "    run_evaluate(CURR_DIR, \"v10\", \"node2vec\", K_VALS, secondary_model=f\"doc2vec_{n}\")"
   ]
  },
  {
   "cell_type": "markdown",
   "metadata": {},
   "source": [
    "#### SPECTER"
   ]
  },
  {
   "cell_type": "code",
   "execution_count": null,
   "metadata": {},
   "outputs": [],
   "source": [
    "run_generate_and_save_test_node_embeddings(CURR_DIR, \"v10\", \"node2vec\", \"specter\", N_VALS)"
   ]
  },
  {
   "cell_type": "code",
   "execution_count": null,
   "metadata": {},
   "outputs": [],
   "source": [
    "for n in N_VALS:\n",
    "    run_evaluate(CURR_DIR, \"v10\", \"node2vec\", K_VALS, secondary_model=f\"specter_{n}\")"
   ]
  },
  {
   "cell_type": "markdown",
   "metadata": {},
   "source": [
    "#### SPECTER2"
   ]
  },
  {
   "cell_type": "code",
   "execution_count": null,
   "metadata": {},
   "outputs": [],
   "source": [
    "run_generate_and_save_test_node_embeddings(CURR_DIR, \"v10\", \"node2vec\", \"specter2\", N_VALS)"
   ]
  },
  {
   "cell_type": "code",
   "execution_count": null,
   "metadata": {},
   "outputs": [],
   "source": [
    "for n in N_VALS:\n",
    "    run_evaluate(CURR_DIR, \"v10\", \"node2vec\", K_VALS, secondary_model=f\"specter2_{n}\")"
   ]
  },
  {
   "cell_type": "markdown",
   "metadata": {},
   "source": [
    "## Simple Concatenation"
   ]
  },
  {
   "cell_type": "markdown",
   "metadata": {},
   "source": [
    "### With Node2vec"
   ]
  },
  {
   "cell_type": "markdown",
   "metadata": {},
   "source": [
    "#### TF-IDF"
   ]
  },
  {
   "cell_type": "code",
   "execution_count": null,
   "metadata": {},
   "outputs": [],
   "source": [
    "run_fuse_embeddings(CURR_DIR, \"v10\", \"concat\", concat_embeddings, \"tfidf\", \"node2vec\", N_VALS)"
   ]
  },
  {
   "cell_type": "code",
   "execution_count": null,
   "metadata": {},
   "outputs": [],
   "source": [
    "for n in N_VALS:\n",
    "    run_evaluate(CURR_DIR, \"v10\", f\"tfidf_{n}\", K_VALS, secondary_model=\"node2vec\", fusion_model=\"concat\")"
   ]
  },
  {
   "cell_type": "markdown",
   "metadata": {},
   "source": [
    "#### SciBERT"
   ]
  },
  {
   "cell_type": "code",
   "execution_count": null,
   "metadata": {},
   "outputs": [],
   "source": [
    "run_fuse_embeddings(CURR_DIR, \"v10\", \"concat\", concat_embeddings, \"scibert\", \"node2vec\", N_VALS)"
   ]
  },
  {
   "cell_type": "code",
   "execution_count": null,
   "metadata": {},
   "outputs": [],
   "source": [
    "for n in N_VALS:\n",
    "    run_evaluate(CURR_DIR, \"v10\", f\"scibert_{n}\", K_VALS, secondary_model=\"node2vec\", fusion_model=\"concat\")"
   ]
  },
  {
   "cell_type": "markdown",
   "metadata": {},
   "source": [
    "#### Doc2vec"
   ]
  },
  {
   "cell_type": "code",
   "execution_count": null,
   "metadata": {},
   "outputs": [],
   "source": [
    "run_fuse_embeddings(CURR_DIR, \"v10\", \"concat\", concat_embeddings, \"doc2vec\", \"node2vec\", N_VALS)"
   ]
  },
  {
   "cell_type": "code",
   "execution_count": null,
   "metadata": {},
   "outputs": [],
   "source": [
    "for n in N_VALS:\n",
    "    run_evaluate(CURR_DIR, \"v10\", f\"doc2vec_{n}\", K_VALS, secondary_model=\"node2vec\", fusion_model=\"concat\")"
   ]
  },
  {
   "cell_type": "markdown",
   "metadata": {},
   "source": [
    "#### SPECTER"
   ]
  },
  {
   "cell_type": "code",
   "execution_count": null,
   "metadata": {},
   "outputs": [],
   "source": [
    "run_fuse_embeddings(CURR_DIR, \"v10\", \"concat\", concat_embeddings, \"specter\", \"node2vec\", N_VALS)"
   ]
  },
  {
   "cell_type": "code",
   "execution_count": null,
   "metadata": {},
   "outputs": [],
   "source": [
    "for n in N_VALS:\n",
    "    run_evaluate(CURR_DIR, \"v10\", f\"specter_{n}\", K_VALS, secondary_model=\"node2vec\", fusion_model=\"concat\")"
   ]
  },
  {
   "cell_type": "markdown",
   "metadata": {},
   "source": [
    "#### SPECTER2"
   ]
  },
  {
   "cell_type": "code",
   "execution_count": null,
   "metadata": {},
   "outputs": [],
   "source": [
    "run_fuse_embeddings(CURR_DIR, \"v10\", \"concat\", concat_embeddings, \"specter2\", \"node2vec\", N_VALS)"
   ]
  },
  {
   "cell_type": "code",
   "execution_count": null,
   "metadata": {},
   "outputs": [],
   "source": [
    "for n in N_VALS:\n",
    "    run_evaluate(CURR_DIR, \"v10\", f\"specter2_{n}\", K_VALS, secondary_model=\"node2vec\", fusion_model=\"concat\")"
   ]
  },
  {
   "cell_type": "markdown",
   "metadata": {},
   "source": [
    "## Canonical Correlation Analysis (CCA)"
   ]
  },
  {
   "cell_type": "markdown",
   "metadata": {},
   "source": [
    "### With Node2vec"
   ]
  },
  {
   "cell_type": "markdown",
   "metadata": {},
   "source": [
    "#### TF-IDF"
   ]
  },
  {
   "cell_type": "code",
   "execution_count": null,
   "metadata": {},
   "outputs": [],
   "source": [
    "run_train_fusion_model(CURR_DIR, \"v10\", \"cca\", train_cca, \"tfidf\", \"node2vec\")"
   ]
  },
  {
   "cell_type": "code",
   "execution_count": null,
   "metadata": {},
   "outputs": [],
   "source": [
    "run_project_embeddings(CURR_DIR, \"v10\", \"cca\", \"tfidf\", \"node2vec\", N_VALS)"
   ]
  },
  {
   "cell_type": "code",
   "execution_count": null,
   "metadata": {},
   "outputs": [],
   "source": [
    "for n in N_VALS:\n",
    "    run_evaluate(CURR_DIR, \"v10\", f\"tfidf_{n}\", K_VALS, secondary_model=\"node2vec\", fusion_model=\"cca_text_projected\")\n",
    "    run_evaluate(CURR_DIR, \"v10\", f\"tfidf_{n}\", K_VALS, secondary_model=\"node2vec\", fusion_model=\"cca_node_projected\")"
   ]
  },
  {
   "cell_type": "code",
   "execution_count": null,
   "metadata": {},
   "outputs": [],
   "source": [
    "run_fuse_embeddings_with_projection(CURR_DIR, \"v10\", \"cca_concat\", concat_embeddings, \"tfidf\", \"node2vec\", N_VALS)\n",
    "\n",
    "for alpha in ALPHA_VALS:\n",
    "    run_fuse_embeddings_with_projection(\n",
    "        CURR_DIR,\n",
    "        \"v10\",\n",
    "        f\"cca_fused_{alpha}\",\n",
    "        create_linear_combiner(alpha),\n",
    "        \"tfidf\",\n",
    "        \"node2vec\",\n",
    "        N_VALS\n",
    "    )"
   ]
  },
  {
   "cell_type": "code",
   "execution_count": null,
   "metadata": {},
   "outputs": [],
   "source": [
    "for n in N_VALS:\n",
    "    run_evaluate(CURR_DIR, \"v10\", f\"tfidf_{n}\", K_VALS, secondary_model=\"node2vec\", fusion_model=\"cca_concat\")\n",
    "\n",
    "    for alpha in ALPHA_VALS:\n",
    "        run_evaluate(CURR_DIR, \"v10\", f\"tfidf_{n}\", K_VALS, secondary_model=\"node2vec\", fusion_model=f\"cca_fused_{alpha}\")"
   ]
  },
  {
   "cell_type": "markdown",
   "metadata": {},
   "source": [
    "#### SciBERT"
   ]
  },
  {
   "cell_type": "code",
   "execution_count": null,
   "metadata": {},
   "outputs": [],
   "source": [
    "run_train_fusion_model(CURR_DIR, \"v10\", \"cca\", train_cca, \"scibert\", \"node2vec\")"
   ]
  },
  {
   "cell_type": "code",
   "execution_count": null,
   "metadata": {},
   "outputs": [],
   "source": [
    "run_project_embeddings(CURR_DIR, \"v10\", \"cca\", \"scibert\", \"node2vec\", N_VALS)"
   ]
  },
  {
   "cell_type": "code",
   "execution_count": null,
   "metadata": {},
   "outputs": [],
   "source": [
    "for n in N_VALS:\n",
    "    run_evaluate(CURR_DIR, \"v10\", f\"scibert_{n}\", K_VALS, secondary_model=\"node2vec\", fusion_model=\"cca_text_projected\")\n",
    "    run_evaluate(CURR_DIR, \"v10\", f\"scibert_{n}\", K_VALS, secondary_model=\"node2vec\", fusion_model=\"cca_node_projected\")"
   ]
  },
  {
   "cell_type": "code",
   "execution_count": null,
   "metadata": {},
   "outputs": [],
   "source": [
    "run_fuse_embeddings_with_projection(CURR_DIR, \"v10\", \"cca_concat\", concat_embeddings, \"scibert\", \"node2vec\", N_VALS)\n",
    "\n",
    "for alpha in ALPHA_VALS:\n",
    "    run_fuse_embeddings_with_projection(\n",
    "        CURR_DIR,\n",
    "        \"v10\",\n",
    "        f\"cca_fused_{alpha}\",\n",
    "        create_linear_combiner(alpha),\n",
    "        \"scibert\",\n",
    "        \"node2vec\",\n",
    "        N_VALS\n",
    "    )"
   ]
  },
  {
   "cell_type": "code",
   "execution_count": null,
   "metadata": {},
   "outputs": [],
   "source": [
    "for n in N_VALS:\n",
    "    run_evaluate(CURR_DIR, \"v10\", f\"scibert_{n}\", K_VALS, secondary_model=\"node2vec\", fusion_model=\"cca_concat\")\n",
    "\n",
    "    for alpha in ALPHA_VALS:\n",
    "        run_evaluate(CURR_DIR, \"v10\", f\"scibert_{n}\", K_VALS, secondary_model=\"node2vec\", fusion_model=f\"cca_fused_{alpha}\")"
   ]
  },
  {
   "cell_type": "markdown",
   "metadata": {},
   "source": [
    "#### Doc2vec"
   ]
  },
  {
   "cell_type": "code",
   "execution_count": null,
   "metadata": {},
   "outputs": [],
   "source": [
    "run_train_fusion_model(CURR_DIR, \"v10\", \"cca\", train_cca, \"doc2vec\", \"node2vec\")"
   ]
  },
  {
   "cell_type": "code",
   "execution_count": null,
   "metadata": {},
   "outputs": [],
   "source": [
    "run_project_embeddings(CURR_DIR, \"v10\", \"cca\", \"doc2vec\", \"node2vec\", N_VALS)"
   ]
  },
  {
   "cell_type": "code",
   "execution_count": null,
   "metadata": {},
   "outputs": [],
   "source": [
    "for n in N_VALS:\n",
    "    run_evaluate(CURR_DIR, \"v10\", f\"doc2vec_{n}\", K_VALS, secondary_model=\"node2vec\", fusion_model=\"cca_text_projected\")\n",
    "    run_evaluate(CURR_DIR, \"v10\", f\"doc2vec_{n}\", K_VALS, secondary_model=\"node2vec\", fusion_model=\"cca_node_projected\")"
   ]
  },
  {
   "cell_type": "code",
   "execution_count": null,
   "metadata": {},
   "outputs": [],
   "source": [
    "run_fuse_embeddings_with_projection(CURR_DIR, \"v10\", \"cca_concat\", concat_embeddings, \"doc2vec\", \"node2vec\", N_VALS)\n",
    "\n",
    "for alpha in ALPHA_VALS:\n",
    "    run_fuse_embeddings_with_projection(\n",
    "        CURR_DIR,\n",
    "        \"v10\",\n",
    "        f\"cca_fused_{alpha}\",\n",
    "        create_linear_combiner(alpha),\n",
    "        \"doc2vec\",\n",
    "        \"node2vec\",\n",
    "        N_VALS\n",
    "    )"
   ]
  },
  {
   "cell_type": "code",
   "execution_count": null,
   "metadata": {},
   "outputs": [],
   "source": [
    "for n in N_VALS:\n",
    "    run_evaluate(CURR_DIR, \"v10\", f\"doc2vec_{n}\", K_VALS, secondary_model=\"node2vec\", fusion_model=\"cca_concat\")\n",
    "\n",
    "    for alpha in ALPHA_VALS:\n",
    "        run_evaluate(CURR_DIR, \"v10\", f\"doc2vec_{n}\", K_VALS, secondary_model=\"node2vec\", fusion_model=f\"cca_fused_{alpha}\")"
   ]
  },
  {
   "cell_type": "markdown",
   "metadata": {},
   "source": [
    "#### SPECTER"
   ]
  },
  {
   "cell_type": "code",
   "execution_count": null,
   "metadata": {},
   "outputs": [],
   "source": [
    "run_train_fusion_model(CURR_DIR, \"v10\", \"cca\", train_cca, \"specter\", \"node2vec\")"
   ]
  },
  {
   "cell_type": "code",
   "execution_count": null,
   "metadata": {},
   "outputs": [],
   "source": [
    "run_project_embeddings(CURR_DIR, \"v10\", \"cca\", \"specter\", \"node2vec\", N_VALS)"
   ]
  },
  {
   "cell_type": "code",
   "execution_count": null,
   "metadata": {},
   "outputs": [],
   "source": [
    "for n in N_VALS:\n",
    "    run_evaluate(CURR_DIR, \"v10\", f\"specter_{n}\", K_VALS, secondary_model=\"node2vec\", fusion_model=\"cca_text_projected\")\n",
    "    run_evaluate(CURR_DIR, \"v10\", f\"specter_{n}\", K_VALS, secondary_model=\"node2vec\", fusion_model=\"cca_node_projected\")"
   ]
  },
  {
   "cell_type": "code",
   "execution_count": null,
   "metadata": {},
   "outputs": [],
   "source": [
    "run_fuse_embeddings_with_projection(CURR_DIR, \"v10\", \"cca_concat\", concat_embeddings, \"specter\", \"node2vec\", N_VALS)\n",
    "\n",
    "for alpha in ALPHA_VALS:\n",
    "    run_fuse_embeddings_with_projection(\n",
    "        CURR_DIR,\n",
    "        \"v10\",\n",
    "        f\"cca_fused_{alpha}\",\n",
    "        create_linear_combiner(alpha),\n",
    "        \"specter\",\n",
    "        \"node2vec\",\n",
    "        N_VALS\n",
    "    )"
   ]
  },
  {
   "cell_type": "code",
   "execution_count": null,
   "metadata": {},
   "outputs": [],
   "source": [
    "for n in N_VALS:\n",
    "    run_evaluate(CURR_DIR, \"v10\", f\"specter_{n}\", K_VALS, secondary_model=\"node2vec\", fusion_model=\"cca_concat\")\n",
    "\n",
    "    for alpha in ALPHA_VALS:\n",
    "        run_evaluate(CURR_DIR, \"v10\", f\"specter_{n}\", K_VALS, secondary_model=\"node2vec\", fusion_model=f\"cca_fused_{alpha}\")"
   ]
  },
  {
   "cell_type": "markdown",
   "metadata": {},
   "source": [
    "#### SPECTER2"
   ]
  },
  {
   "cell_type": "code",
   "execution_count": null,
   "metadata": {},
   "outputs": [],
   "source": [
    "run_train_fusion_model(CURR_DIR, \"v10\", \"cca\", train_cca, \"specter2\", \"node2vec\")"
   ]
  },
  {
   "cell_type": "code",
   "execution_count": null,
   "metadata": {},
   "outputs": [],
   "source": [
    "run_project_embeddings(CURR_DIR, \"v10\", \"cca\", \"specter2\", \"node2vec\", N_VALS)"
   ]
  },
  {
   "cell_type": "code",
   "execution_count": null,
   "metadata": {},
   "outputs": [],
   "source": [
    "for n in N_VALS:\n",
    "    run_evaluate(CURR_DIR, \"v10\", f\"specter2_{n}\", K_VALS, secondary_model=\"node2vec\", fusion_model=\"cca_text_projected\")\n",
    "    run_evaluate(CURR_DIR, \"v10\", f\"specter2_{n}\", K_VALS, secondary_model=\"node2vec\", fusion_model=\"cca_node_projected\")"
   ]
  },
  {
   "cell_type": "code",
   "execution_count": null,
   "metadata": {},
   "outputs": [],
   "source": [
    "run_fuse_embeddings_with_projection(CURR_DIR, \"v10\", \"cca_concat\", concat_embeddings, \"specter2\", \"node2vec\", N_VALS)\n",
    "\n",
    "for alpha in ALPHA_VALS:\n",
    "    run_fuse_embeddings_with_projection(\n",
    "        CURR_DIR,\n",
    "        \"v10\",\n",
    "        f\"cca_fused_{alpha}\",\n",
    "        create_linear_combiner(alpha),\n",
    "        \"specter2\",\n",
    "        \"node2vec\",\n",
    "        N_VALS\n",
    "    )"
   ]
  },
  {
   "cell_type": "code",
   "execution_count": null,
   "metadata": {},
   "outputs": [],
   "source": [
    "for n in N_VALS:\n",
    "    run_evaluate(CURR_DIR, \"v10\", f\"specter2_{n}\", K_VALS, secondary_model=\"node2vec\", fusion_model=\"cca_concat\")\n",
    "\n",
    "    for alpha in ALPHA_VALS:\n",
    "        run_evaluate(CURR_DIR, \"v10\", f\"specter2_{n}\", K_VALS, secondary_model=\"node2vec\", fusion_model=f\"cca_fused_{alpha}\")"
   ]
  },
  {
   "cell_type": "markdown",
   "metadata": {},
   "source": [
    "## Deep CCA"
   ]
  },
  {
   "cell_type": "markdown",
   "metadata": {},
   "source": [
    "### With Node2vec"
   ]
  },
  {
   "cell_type": "markdown",
   "metadata": {},
   "source": [
    "#### TF-IDF"
   ]
  },
  {
   "cell_type": "code",
   "execution_count": null,
   "metadata": {},
   "outputs": [],
   "source": [
    "run_train_fusion_model(CURR_DIR, \"v10\", \"dcca\", train_dcca, \"tfidf\", \"node2vec\")"
   ]
  },
  {
   "cell_type": "code",
   "execution_count": null,
   "metadata": {},
   "outputs": [],
   "source": [
    "run_project_embeddings(CURR_DIR, \"v10\", \"dcca\", \"tfidf\", \"node2vec\", N_VALS)"
   ]
  },
  {
   "cell_type": "code",
   "execution_count": null,
   "metadata": {},
   "outputs": [],
   "source": [
    "for n in N_VALS:\n",
    "    run_evaluate(CURR_DIR, \"v10\", f\"tfidf_{n}\", K_VALS, secondary_model=\"node2vec\", fusion_model=\"dcca_text_projected\")\n",
    "    run_evaluate(CURR_DIR, \"v10\", f\"tfidf_{n}\", K_VALS, secondary_model=\"node2vec\", fusion_model=\"dcca_node_projected\")"
   ]
  },
  {
   "cell_type": "code",
   "execution_count": null,
   "metadata": {},
   "outputs": [],
   "source": [
    "run_fuse_embeddings_with_projection(CURR_DIR, \"v10\", \"dcca_concat\", concat_embeddings, \"tfidf\", \"node2vec\", N_VALS)\n",
    "\n",
    "for alpha in ALPHA_VALS:\n",
    "    run_fuse_embeddings_with_projection(\n",
    "        CURR_DIR,\n",
    "        \"v10\",\n",
    "        f\"dcca_fused_{alpha}\",\n",
    "        create_linear_combiner(alpha),\n",
    "        \"tfidf\",\n",
    "        \"node2vec\",\n",
    "        N_VALS\n",
    "    )"
   ]
  },
  {
   "cell_type": "code",
   "execution_count": null,
   "metadata": {},
   "outputs": [],
   "source": [
    "for n in N_VALS:\n",
    "    run_evaluate(CURR_DIR, \"v10\", f\"tfidf_{n}\", K_VALS, secondary_model=\"node2vec\", fusion_model=\"dcca_concat\")\n",
    "\n",
    "    for alpha in ALPHA_VALS:\n",
    "        run_evaluate(CURR_DIR, \"v10\", f\"tfidf_{n}\", K_VALS, secondary_model=\"node2vec\", fusion_model=f\"dcca_fused_{alpha}\")"
   ]
  },
  {
   "cell_type": "markdown",
   "metadata": {},
   "source": [
    "#### SciBERT"
   ]
  },
  {
   "cell_type": "code",
   "execution_count": null,
   "metadata": {},
   "outputs": [],
   "source": [
    "run_train_fusion_model(CURR_DIR, \"v10\", \"dcca\", train_dcca, \"scibert\", \"node2vec\")"
   ]
  },
  {
   "cell_type": "code",
   "execution_count": null,
   "metadata": {},
   "outputs": [],
   "source": [
    "run_project_embeddings(CURR_DIR, \"v10\", \"dcca\", \"scibert\", \"node2vec\", N_VALS)"
   ]
  },
  {
   "cell_type": "code",
   "execution_count": null,
   "metadata": {},
   "outputs": [],
   "source": [
    "for n in N_VALS:\n",
    "    run_evaluate(CURR_DIR, \"v10\", f\"scibert_{n}\", K_VALS, secondary_model=\"node2vec\", fusion_model=\"dcca_text_projected\")\n",
    "    run_evaluate(CURR_DIR, \"v10\", f\"scibert_{n}\", K_VALS, secondary_model=\"node2vec\", fusion_model=\"dcca_node_projected\")"
   ]
  },
  {
   "cell_type": "code",
   "execution_count": null,
   "metadata": {},
   "outputs": [],
   "source": [
    "run_fuse_embeddings_with_projection(CURR_DIR, \"v10\", \"dcca_concat\", concat_embeddings, \"scibert\", \"node2vec\", N_VALS)\n",
    "\n",
    "for alpha in ALPHA_VALS:\n",
    "    run_fuse_embeddings_with_projection(\n",
    "        CURR_DIR,\n",
    "        \"v10\",\n",
    "        f\"dcca_fused_{alpha}\",\n",
    "        create_linear_combiner(alpha),\n",
    "        \"scibert\",\n",
    "        \"node2vec\",\n",
    "        N_VALS\n",
    "    )"
   ]
  },
  {
   "cell_type": "code",
   "execution_count": null,
   "metadata": {},
   "outputs": [],
   "source": [
    "for n in N_VALS:\n",
    "    run_evaluate(CURR_DIR, \"v10\", f\"scibert_{n}\", K_VALS, secondary_model=\"node2vec\", fusion_model=\"dcca_concat\")\n",
    "\n",
    "    for alpha in ALPHA_VALS:\n",
    "        run_evaluate(CURR_DIR, \"v10\", f\"scibert_{n}\", K_VALS, secondary_model=\"node2vec\", fusion_model=f\"dcca_fused_{alpha}\")"
   ]
  },
  {
   "cell_type": "markdown",
   "metadata": {},
   "source": [
    "#### Doc2vec"
   ]
  },
  {
   "cell_type": "code",
   "execution_count": null,
   "metadata": {},
   "outputs": [],
   "source": [
    "run_train_fusion_model(CURR_DIR, \"v10\", \"dcca\", train_dcca, \"doc2vec\", \"node2vec\")"
   ]
  },
  {
   "cell_type": "code",
   "execution_count": null,
   "metadata": {},
   "outputs": [],
   "source": [
    "run_project_embeddings(CURR_DIR, \"v10\", \"dcca\", \"doc2vec\", \"node2vec\", N_VALS)"
   ]
  },
  {
   "cell_type": "code",
   "execution_count": null,
   "metadata": {},
   "outputs": [],
   "source": [
    "for n in N_VALS:\n",
    "    run_evaluate(CURR_DIR, \"v10\", f\"doc2vec_{n}\", K_VALS, secondary_model=\"node2vec\", fusion_model=\"dcca_text_projected\")\n",
    "    run_evaluate(CURR_DIR, \"v10\", f\"doc2vec_{n}\", K_VALS, secondary_model=\"node2vec\", fusion_model=\"dcca_node_projected\")"
   ]
  },
  {
   "cell_type": "code",
   "execution_count": null,
   "metadata": {},
   "outputs": [],
   "source": [
    "run_fuse_embeddings_with_projection(CURR_DIR, \"v10\", \"dcca_concat\", concat_embeddings, \"doc2vec\", \"node2vec\", N_VALS)\n",
    "\n",
    "for alpha in ALPHA_VALS:\n",
    "    run_fuse_embeddings_with_projection(\n",
    "        CURR_DIR,\n",
    "        \"v10\",\n",
    "        f\"dcca_fused_{alpha}\",\n",
    "        create_linear_combiner(alpha),\n",
    "        \"doc2vec\",\n",
    "        \"node2vec\",\n",
    "        N_VALS\n",
    "    )"
   ]
  },
  {
   "cell_type": "code",
   "execution_count": null,
   "metadata": {},
   "outputs": [],
   "source": [
    "for n in N_VALS:\n",
    "    run_evaluate(CURR_DIR, \"v10\", f\"doc2vec_{n}\", K_VALS, secondary_model=\"node2vec\", fusion_model=\"dcca_concat\")\n",
    "\n",
    "    for alpha in ALPHA_VALS:\n",
    "        run_evaluate(CURR_DIR, \"v10\", f\"doc2vec_{n}\", K_VALS, secondary_model=\"node2vec\", fusion_model=f\"dcca_fused_{alpha}\")"
   ]
  },
  {
   "cell_type": "markdown",
   "metadata": {},
   "source": [
    "#### SPECTER"
   ]
  },
  {
   "cell_type": "code",
   "execution_count": null,
   "metadata": {},
   "outputs": [],
   "source": [
    "run_train_fusion_model(CURR_DIR, \"v10\", \"dcca\", train_dcca, \"specter\", \"node2vec\")"
   ]
  },
  {
   "cell_type": "code",
   "execution_count": null,
   "metadata": {},
   "outputs": [],
   "source": [
    "run_project_embeddings(CURR_DIR, \"v10\", \"dcca\", \"specter\", \"node2vec\", N_VALS)"
   ]
  },
  {
   "cell_type": "code",
   "execution_count": null,
   "metadata": {},
   "outputs": [],
   "source": [
    "for n in N_VALS:\n",
    "    run_evaluate(CURR_DIR, \"v10\", f\"specter_{n}\", K_VALS, secondary_model=\"node2vec\", fusion_model=\"dcca_text_projected\")\n",
    "    run_evaluate(CURR_DIR, \"v10\", f\"specter_{n}\", K_VALS, secondary_model=\"node2vec\", fusion_model=\"dcca_node_projected\")"
   ]
  },
  {
   "cell_type": "code",
   "execution_count": null,
   "metadata": {},
   "outputs": [],
   "source": [
    "run_fuse_embeddings_with_projection(CURR_DIR, \"v10\", \"dcca_concat\", concat_embeddings, \"specter\", \"node2vec\", N_VALS)\n",
    "\n",
    "for alpha in ALPHA_VALS:\n",
    "    run_fuse_embeddings_with_projection(\n",
    "        CURR_DIR,\n",
    "        \"v10\",\n",
    "        f\"dcca_fused_{alpha}\",\n",
    "        create_linear_combiner(alpha),\n",
    "        \"specter\",\n",
    "        \"node2vec\",\n",
    "        N_VALS\n",
    "    )"
   ]
  },
  {
   "cell_type": "code",
   "execution_count": null,
   "metadata": {},
   "outputs": [],
   "source": [
    "for n in N_VALS:\n",
    "    run_evaluate(CURR_DIR, \"v10\", f\"specter_{n}\", K_VALS, secondary_model=\"node2vec\", fusion_model=\"dcca_concat\")\n",
    "\n",
    "    for alpha in ALPHA_VALS:\n",
    "        run_evaluate(CURR_DIR, \"v10\", f\"specter_{n}\", K_VALS, secondary_model=\"node2vec\", fusion_model=f\"dcca_fused_{alpha}\")"
   ]
  },
  {
   "cell_type": "markdown",
   "metadata": {},
   "source": [
    "#### SPECTER2"
   ]
  },
  {
   "cell_type": "code",
   "execution_count": null,
   "metadata": {},
   "outputs": [],
   "source": [
    "run_train_fusion_model(CURR_DIR, \"v10\", \"dcca\", train_dcca, \"specter2\", \"node2vec\")"
   ]
  },
  {
   "cell_type": "code",
   "execution_count": null,
   "metadata": {},
   "outputs": [],
   "source": [
    "run_project_embeddings(CURR_DIR, \"v10\", \"dcca\", \"specter2\", \"node2vec\", N_VALS)"
   ]
  },
  {
   "cell_type": "code",
   "execution_count": null,
   "metadata": {},
   "outputs": [],
   "source": [
    "for n in N_VALS:\n",
    "    run_evaluate(CURR_DIR, \"v10\", f\"specter2_{n}\", K_VALS, secondary_model=\"node2vec\", fusion_model=\"dcca_text_projected\")\n",
    "    run_evaluate(CURR_DIR, \"v10\", f\"specter2_{n}\", K_VALS, secondary_model=\"node2vec\", fusion_model=\"dcca_node_projected\")"
   ]
  },
  {
   "cell_type": "code",
   "execution_count": null,
   "metadata": {},
   "outputs": [],
   "source": [
    "run_fuse_embeddings_with_projection(CURR_DIR, \"v10\", \"dcca_concat\", concat_embeddings, \"specter2\", \"node2vec\", N_VALS)\n",
    "\n",
    "for alpha in ALPHA_VALS:\n",
    "    run_fuse_embeddings_with_projection(\n",
    "        CURR_DIR,\n",
    "        \"v10\",\n",
    "        f\"dcca_fused_{alpha}\",\n",
    "        create_linear_combiner(alpha),\n",
    "        \"specter2\",\n",
    "        \"node2vec\",\n",
    "        N_VALS\n",
    "    )"
   ]
  },
  {
   "cell_type": "code",
   "execution_count": null,
   "metadata": {},
   "outputs": [],
   "source": [
    "for n in N_VALS:\n",
    "    run_evaluate(CURR_DIR, \"v10\", f\"specter2_{n}\", K_VALS, secondary_model=\"node2vec\", fusion_model=\"dcca_concat\")\n",
    "\n",
    "    for alpha in ALPHA_VALS:\n",
    "        run_evaluate(CURR_DIR, \"v10\", f\"specter2_{n}\", K_VALS, secondary_model=\"node2vec\", fusion_model=f\"dcca_fused_{alpha}\")"
   ]
  }
 ],
 "metadata": {
  "kernelspec": {
   "display_name": "Python 3",
   "language": "python",
   "name": "python3"
  },
  "language_info": {
   "codemirror_mode": {
    "name": "ipython",
    "version": 3
   },
   "file_extension": ".py",
   "mimetype": "text/x-python",
   "name": "python",
   "nbconvert_exporter": "python",
   "pygments_lexer": "ipython3",
   "version": "3.10.6"
  }
 },
 "nbformat": 4,
 "nbformat_minor": 2
}
