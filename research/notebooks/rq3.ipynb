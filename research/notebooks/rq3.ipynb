{
 "cells": [
  {
   "cell_type": "markdown",
   "metadata": {},
   "source": [
    "## Google Colab"
   ]
  },
  {
   "cell_type": "code",
   "execution_count": null,
   "metadata": {},
   "outputs": [],
   "source": [
    "from google.colab import drive\n",
    "\n",
    "drive.mount(\"/content/drive\")\n",
    "CURR_DIR = \"/content/drive/MyDrive/FYP\""
   ]
  },
  {
   "cell_type": "markdown",
   "metadata": {},
   "source": [
    "## Local"
   ]
  },
  {
   "cell_type": "code",
   "execution_count": null,
   "metadata": {},
   "outputs": [],
   "source": [
    "CURR_DIR = \"..\""
   ]
  },
  {
   "cell_type": "markdown",
   "metadata": {},
   "source": [
    "## Imports"
   ]
  },
  {
   "cell_type": "code",
   "execution_count": null,
   "metadata": {},
   "outputs": [],
   "source": [
    "REQUIREMENTS_PATH = f\"{CURR_DIR}/requirements/base.txt\"\n",
    "\n",
    "!pip install -r {REQUIREMENTS_PATH}"
   ]
  },
  {
   "cell_type": "code",
   "execution_count": null,
   "metadata": {},
   "outputs": [],
   "source": [
    "%load_ext autoreload\n",
    "%autoreload 2"
   ]
  },
  {
   "cell_type": "code",
   "execution_count": null,
   "metadata": {},
   "outputs": [],
   "source": [
    "import sys; sys.path.append(CURR_DIR)\n",
    "import os\n",
    "from src.models.graph import generate_and_save_graph\n",
    "from src.models.node_embeddings import generate_and_save_train_embeddings, generate_and_save_test_embeddings\n",
    "from src.evaluation.evaluate import evaluate"
   ]
  },
  {
   "cell_type": "code",
   "execution_count": null,
   "metadata": {},
   "outputs": [],
   "source": [
    "K_VALS = [10, 15, 20]"
   ]
  },
  {
   "cell_type": "markdown",
   "metadata": {},
   "source": [
    "## Citation Network"
   ]
  },
  {
   "cell_type": "code",
   "execution_count": null,
   "metadata": {},
   "outputs": [],
   "source": [
    "generate_and_save_graph(\n",
    "    os.path.join(CURR_DIR, \"data/embeddings/v10_train_graph.pkl\"),\n",
    "    os.path.join(CURR_DIR, \"data/parsed/v10_train.json\")\n",
    ")"
   ]
  },
  {
   "cell_type": "markdown",
   "metadata": {},
   "source": [
    "## Node2vec Embeddings"
   ]
  },
  {
   "cell_type": "code",
   "execution_count": null,
   "metadata": {},
   "outputs": [],
   "source": [
    "generate_and_save_train_embeddings(\n",
    "    os.path.join(CURR_DIR, \"data/embeddings/v10_train_node2vec.faiss\"),\n",
    "    os.path.join(CURR_DIR, \"data/embeddings/v10_train_node2vec_ids.pkl\"),\n",
    "    os.path.join(CURR_DIR, \"data/embeddings/v10_train_graph.pkl\")\n",
    ")"
   ]
  },
  {
   "cell_type": "code",
   "execution_count": null,
   "metadata": {},
   "outputs": [],
   "source": [
    "N_VALS = [1, 3]"
   ]
  },
  {
   "cell_type": "markdown",
   "metadata": {},
   "source": [
    "### TF-IDF Vectors"
   ]
  },
  {
   "cell_type": "code",
   "execution_count": null,
   "metadata": {},
   "outputs": [],
   "source": [
    "for n in N_VALS:\n",
    "    generate_and_save_test_embeddings(\n",
    "        os.path.join(CURR_DIR, f\"data/embeddings/v10_test_node2vec_tfidf_{n}.faiss\"),\n",
    "        os.path.join(CURR_DIR, \"data/embeddings/v10_test_node2vec_ids.pkl\"),\n",
    "        os.path.join(CURR_DIR, \"data/embeddings/v10_train_node2vec.faiss\"),\n",
    "        os.path.join(CURR_DIR, \"data/embeddings/v10_train_node2vec_ids.pkl\"),\n",
    "        os.path.join(CURR_DIR, \"data/embeddings/v10_train_tfidf.faiss\"),\n",
    "        os.path.join(CURR_DIR, \"data/embeddings/v10_test_tfidf.faiss\"),\n",
    "        os.path.join(CURR_DIR, \"data/embeddings/v10_train_tfidf_ids.pkl\"),\n",
    "        os.path.join(CURR_DIR, \"data/embeddings/v10_test_tfidf_ids.pkl\"),\n",
    "        n\n",
    "    )"
   ]
  },
  {
   "cell_type": "code",
   "execution_count": null,
   "metadata": {},
   "outputs": [],
   "source": [
    "for n in N_VALS:\n",
    "    evaluate(\n",
    "        os.path.join(CURR_DIR, f\"data/results/v10_node2vec_tfidf_{n}_results.csv\"),\n",
    "        os.path.join(CURR_DIR, \"data/embeddings/v10_train_node2vec.faiss\"),\n",
    "        os.path.join(CURR_DIR, f\"data/embeddings/v10_test_node2vec_tfidf_{n}.faiss\"),\n",
    "        os.path.join(CURR_DIR, \"data/embeddings/v10_train_node2vec_ids.pkl\"),\n",
    "        os.path.join(CURR_DIR, \"data/embeddings/v10_test_node2vec_ids.pkl\"),\n",
    "        os.path.join(CURR_DIR, \"data/parsed/v10_test.json\"),\n",
    "        K_VALS\n",
    "    )"
   ]
  },
  {
   "cell_type": "markdown",
   "metadata": {},
   "source": [
    "### SciBERT Embeddings"
   ]
  },
  {
   "cell_type": "code",
   "execution_count": null,
   "metadata": {},
   "outputs": [],
   "source": [
    "for n in N_VALS:\n",
    "    generate_and_save_test_embeddings(\n",
    "        os.path.join(CURR_DIR, f\"data/embeddings/v10_test_node2vec_scibert_{n}.faiss\"),\n",
    "        os.path.join(CURR_DIR, \"data/embeddings/v10_test_node2vec_ids.pkl\"),\n",
    "        os.path.join(CURR_DIR, \"data/embeddings/v10_train_node2vec.faiss\"),\n",
    "        os.path.join(CURR_DIR, \"data/embeddings/v10_train_node2vec_ids.pkl\"),\n",
    "        os.path.join(CURR_DIR, \"data/embeddings/v10_train_scibert.faiss\"),\n",
    "        os.path.join(CURR_DIR, \"data/embeddings/v10_test_scibert.faiss\"),\n",
    "        os.path.join(CURR_DIR, \"data/embeddings/v10_train_scibert_ids.pkl\"),\n",
    "        os.path.join(CURR_DIR, \"data/embeddings/v10_test_scibert_ids.pkl\"),\n",
    "        n\n",
    "    )"
   ]
  },
  {
   "cell_type": "code",
   "execution_count": null,
   "metadata": {},
   "outputs": [],
   "source": [
    "for n in N_VALS:\n",
    "    evaluate(\n",
    "        os.path.join(CURR_DIR, f\"data/results/v10_node2vec_scibert_{n}_results.csv\"),\n",
    "        os.path.join(CURR_DIR, \"data/embeddings/v10_train_node2vec.faiss\"),\n",
    "        os.path.join(CURR_DIR, f\"data/embeddings/v10_test_node2vec_scibert_{n}.faiss\"),\n",
    "        os.path.join(CURR_DIR, \"data/embeddings/v10_train_node2vec_ids.pkl\"),\n",
    "        os.path.join(CURR_DIR, \"data/embeddings/v10_test_node2vec_ids.pkl\"),\n",
    "        os.path.join(CURR_DIR, \"data/parsed/v10_test.json\"),\n",
    "        K_VALS\n",
    "    )"
   ]
  },
  {
   "cell_type": "markdown",
   "metadata": {},
   "source": [
    "### SPECTER Embeddings"
   ]
  },
  {
   "cell_type": "code",
   "execution_count": null,
   "metadata": {},
   "outputs": [],
   "source": [
    "for n in N_VALS:\n",
    "    generate_and_save_test_embeddings(\n",
    "        os.path.join(CURR_DIR, f\"data/embeddings/v10_test_node2vec_specter_{n}.faiss\"),\n",
    "        os.path.join(CURR_DIR, \"data/embeddings/v10_test_node2vec_ids.pkl\"),\n",
    "        os.path.join(CURR_DIR, \"data/embeddings/v10_train_node2vec.faiss\"),\n",
    "        os.path.join(CURR_DIR, \"data/embeddings/v10_train_node2vec_ids.pkl\"),\n",
    "        os.path.join(CURR_DIR, \"data/embeddings/v10_train_specter.faiss\"),\n",
    "        os.path.join(CURR_DIR, \"data/embeddings/v10_test_specter.faiss\"),\n",
    "        os.path.join(CURR_DIR, \"data/embeddings/v10_train_specter_ids.pkl\"),\n",
    "        os.path.join(CURR_DIR, \"data/embeddings/v10_test_specter_ids.pkl\"),\n",
    "        n\n",
    "    )"
   ]
  },
  {
   "cell_type": "code",
   "execution_count": null,
   "metadata": {},
   "outputs": [],
   "source": [
    "for n in N_VALS:\n",
    "    evaluate(\n",
    "        os.path.join(CURR_DIR, f\"data/results/v10_node2vec_specter_{n}_results.csv\"),\n",
    "        os.path.join(CURR_DIR, \"data/embeddings/v10_train_node2vec.faiss\"),\n",
    "        os.path.join(CURR_DIR, f\"data/embeddings/v10_test_node2vec_specter_{n}.faiss\"),\n",
    "        os.path.join(CURR_DIR, \"data/embeddings/v10_train_node2vec_ids.pkl\"),\n",
    "        os.path.join(CURR_DIR, \"data/embeddings/v10_test_node2vec_ids.pkl\"),\n",
    "        os.path.join(CURR_DIR, \"data/parsed/v10_test.json\"),\n",
    "        K_VALS\n",
    "    )"
   ]
  }
 ],
 "metadata": {
  "kernelspec": {
   "display_name": "Python 3",
   "language": "python",
   "name": "python3"
  },
  "language_info": {
   "name": "python",
   "version": "3.10.6"
  }
 },
 "nbformat": 4,
 "nbformat_minor": 2
}
